{
  "nbformat": 4,
  "nbformat_minor": 0,
  "metadata": {
    "colab": {
      "provenance": [],
      "toc_visible": true
    },
    "kernelspec": {
      "name": "python3",
      "display_name": "Python 3"
    },
    "language_info": {
      "name": "python"
    }
  },
  "cells": [
    {
      "cell_type": "code",
      "execution_count": null,
      "metadata": {
        "colab": {
          "base_uri": "https://localhost:8080/"
        },
        "id": "XWzrlYIsp2KV",
        "outputId": "1c06446c-ebb1-4fa4-b51e-24ad87df55de"
      },
      "outputs": [
        {
          "output_type": "stream",
          "name": "stdout",
          "text": [
            "Requirement already satisfied: torch in /usr/local/lib/python3.11/dist-packages (2.5.1+cu124)\n",
            "Requirement already satisfied: torchvision in /usr/local/lib/python3.11/dist-packages (0.20.1+cu124)\n",
            "Collecting ultralytics\n",
            "  Downloading ultralytics-8.3.75-py3-none-any.whl.metadata (35 kB)\n",
            "Requirement already satisfied: opencv-python in /usr/local/lib/python3.11/dist-packages (4.11.0.86)\n",
            "Requirement already satisfied: pandas in /usr/local/lib/python3.11/dist-packages (2.2.2)\n",
            "Requirement already satisfied: matplotlib in /usr/local/lib/python3.11/dist-packages (3.10.0)\n",
            "Requirement already satisfied: filelock in /usr/local/lib/python3.11/dist-packages (from torch) (3.17.0)\n",
            "Requirement already satisfied: typing-extensions>=4.8.0 in /usr/local/lib/python3.11/dist-packages (from torch) (4.12.2)\n",
            "Requirement already satisfied: networkx in /usr/local/lib/python3.11/dist-packages (from torch) (3.4.2)\n",
            "Requirement already satisfied: jinja2 in /usr/local/lib/python3.11/dist-packages (from torch) (3.1.5)\n",
            "Requirement already satisfied: fsspec in /usr/local/lib/python3.11/dist-packages (from torch) (2024.10.0)\n",
            "Collecting nvidia-cuda-nvrtc-cu12==12.4.127 (from torch)\n",
            "  Downloading nvidia_cuda_nvrtc_cu12-12.4.127-py3-none-manylinux2014_x86_64.whl.metadata (1.5 kB)\n",
            "Collecting nvidia-cuda-runtime-cu12==12.4.127 (from torch)\n",
            "  Downloading nvidia_cuda_runtime_cu12-12.4.127-py3-none-manylinux2014_x86_64.whl.metadata (1.5 kB)\n",
            "Collecting nvidia-cuda-cupti-cu12==12.4.127 (from torch)\n",
            "  Downloading nvidia_cuda_cupti_cu12-12.4.127-py3-none-manylinux2014_x86_64.whl.metadata (1.6 kB)\n",
            "Collecting nvidia-cudnn-cu12==9.1.0.70 (from torch)\n",
            "  Downloading nvidia_cudnn_cu12-9.1.0.70-py3-none-manylinux2014_x86_64.whl.metadata (1.6 kB)\n",
            "Collecting nvidia-cublas-cu12==12.4.5.8 (from torch)\n",
            "  Downloading nvidia_cublas_cu12-12.4.5.8-py3-none-manylinux2014_x86_64.whl.metadata (1.5 kB)\n",
            "Collecting nvidia-cufft-cu12==11.2.1.3 (from torch)\n",
            "  Downloading nvidia_cufft_cu12-11.2.1.3-py3-none-manylinux2014_x86_64.whl.metadata (1.5 kB)\n",
            "Collecting nvidia-curand-cu12==10.3.5.147 (from torch)\n",
            "  Downloading nvidia_curand_cu12-10.3.5.147-py3-none-manylinux2014_x86_64.whl.metadata (1.5 kB)\n",
            "Collecting nvidia-cusolver-cu12==11.6.1.9 (from torch)\n",
            "  Downloading nvidia_cusolver_cu12-11.6.1.9-py3-none-manylinux2014_x86_64.whl.metadata (1.6 kB)\n",
            "Collecting nvidia-cusparse-cu12==12.3.1.170 (from torch)\n",
            "  Downloading nvidia_cusparse_cu12-12.3.1.170-py3-none-manylinux2014_x86_64.whl.metadata (1.6 kB)\n",
            "Requirement already satisfied: nvidia-nccl-cu12==2.21.5 in /usr/local/lib/python3.11/dist-packages (from torch) (2.21.5)\n",
            "Requirement already satisfied: nvidia-nvtx-cu12==12.4.127 in /usr/local/lib/python3.11/dist-packages (from torch) (12.4.127)\n",
            "Collecting nvidia-nvjitlink-cu12==12.4.127 (from torch)\n",
            "  Downloading nvidia_nvjitlink_cu12-12.4.127-py3-none-manylinux2014_x86_64.whl.metadata (1.5 kB)\n",
            "Requirement already satisfied: triton==3.1.0 in /usr/local/lib/python3.11/dist-packages (from torch) (3.1.0)\n",
            "Requirement already satisfied: sympy==1.13.1 in /usr/local/lib/python3.11/dist-packages (from torch) (1.13.1)\n",
            "Requirement already satisfied: mpmath<1.4,>=1.1.0 in /usr/local/lib/python3.11/dist-packages (from sympy==1.13.1->torch) (1.3.0)\n",
            "Requirement already satisfied: numpy in /usr/local/lib/python3.11/dist-packages (from torchvision) (1.26.4)\n",
            "Requirement already satisfied: pillow!=8.3.*,>=5.3.0 in /usr/local/lib/python3.11/dist-packages (from torchvision) (11.1.0)\n",
            "Requirement already satisfied: pyyaml>=5.3.1 in /usr/local/lib/python3.11/dist-packages (from ultralytics) (6.0.2)\n",
            "Requirement already satisfied: requests>=2.23.0 in /usr/local/lib/python3.11/dist-packages (from ultralytics) (2.32.3)\n",
            "Requirement already satisfied: scipy>=1.4.1 in /usr/local/lib/python3.11/dist-packages (from ultralytics) (1.13.1)\n",
            "Requirement already satisfied: tqdm>=4.64.0 in /usr/local/lib/python3.11/dist-packages (from ultralytics) (4.67.1)\n",
            "Requirement already satisfied: psutil in /usr/local/lib/python3.11/dist-packages (from ultralytics) (5.9.5)\n",
            "Requirement already satisfied: py-cpuinfo in /usr/local/lib/python3.11/dist-packages (from ultralytics) (9.0.0)\n",
            "Requirement already satisfied: seaborn>=0.11.0 in /usr/local/lib/python3.11/dist-packages (from ultralytics) (0.13.2)\n",
            "Collecting ultralytics-thop>=2.0.0 (from ultralytics)\n",
            "  Downloading ultralytics_thop-2.0.14-py3-none-any.whl.metadata (9.4 kB)\n",
            "Requirement already satisfied: python-dateutil>=2.8.2 in /usr/local/lib/python3.11/dist-packages (from pandas) (2.8.2)\n",
            "Requirement already satisfied: pytz>=2020.1 in /usr/local/lib/python3.11/dist-packages (from pandas) (2025.1)\n",
            "Requirement already satisfied: tzdata>=2022.7 in /usr/local/lib/python3.11/dist-packages (from pandas) (2025.1)\n",
            "Requirement already satisfied: contourpy>=1.0.1 in /usr/local/lib/python3.11/dist-packages (from matplotlib) (1.3.1)\n",
            "Requirement already satisfied: cycler>=0.10 in /usr/local/lib/python3.11/dist-packages (from matplotlib) (0.12.1)\n",
            "Requirement already satisfied: fonttools>=4.22.0 in /usr/local/lib/python3.11/dist-packages (from matplotlib) (4.55.8)\n",
            "Requirement already satisfied: kiwisolver>=1.3.1 in /usr/local/lib/python3.11/dist-packages (from matplotlib) (1.4.8)\n",
            "Requirement already satisfied: packaging>=20.0 in /usr/local/lib/python3.11/dist-packages (from matplotlib) (24.2)\n",
            "Requirement already satisfied: pyparsing>=2.3.1 in /usr/local/lib/python3.11/dist-packages (from matplotlib) (3.2.1)\n",
            "Requirement already satisfied: six>=1.5 in /usr/local/lib/python3.11/dist-packages (from python-dateutil>=2.8.2->pandas) (1.17.0)\n",
            "Requirement already satisfied: charset-normalizer<4,>=2 in /usr/local/lib/python3.11/dist-packages (from requests>=2.23.0->ultralytics) (3.4.1)\n",
            "Requirement already satisfied: idna<4,>=2.5 in /usr/local/lib/python3.11/dist-packages (from requests>=2.23.0->ultralytics) (3.10)\n",
            "Requirement already satisfied: urllib3<3,>=1.21.1 in /usr/local/lib/python3.11/dist-packages (from requests>=2.23.0->ultralytics) (2.3.0)\n",
            "Requirement already satisfied: certifi>=2017.4.17 in /usr/local/lib/python3.11/dist-packages (from requests>=2.23.0->ultralytics) (2025.1.31)\n",
            "Requirement already satisfied: MarkupSafe>=2.0 in /usr/local/lib/python3.11/dist-packages (from jinja2->torch) (3.0.2)\n",
            "Downloading nvidia_cublas_cu12-12.4.5.8-py3-none-manylinux2014_x86_64.whl (363.4 MB)\n",
            "\u001b[2K   \u001b[90m━━━━━━━━━━━━━━━━━━━━━━━━━━━━━━━━━━━━━━━━\u001b[0m \u001b[32m363.4/363.4 MB\u001b[0m \u001b[31m4.1 MB/s\u001b[0m eta \u001b[36m0:00:00\u001b[0m\n",
            "\u001b[?25hDownloading nvidia_cuda_cupti_cu12-12.4.127-py3-none-manylinux2014_x86_64.whl (13.8 MB)\n",
            "\u001b[2K   \u001b[90m━━━━━━━━━━━━━━━━━━━━━━━━━━━━━━━━━━━━━━━━\u001b[0m \u001b[32m13.8/13.8 MB\u001b[0m \u001b[31m90.3 MB/s\u001b[0m eta \u001b[36m0:00:00\u001b[0m\n",
            "\u001b[?25hDownloading nvidia_cuda_nvrtc_cu12-12.4.127-py3-none-manylinux2014_x86_64.whl (24.6 MB)\n",
            "\u001b[2K   \u001b[90m━━━━━━━━━━━━━━━━━━━━━━━━━━━━━━━━━━━━━━━━\u001b[0m \u001b[32m24.6/24.6 MB\u001b[0m \u001b[31m72.3 MB/s\u001b[0m eta \u001b[36m0:00:00\u001b[0m\n",
            "\u001b[?25hDownloading nvidia_cuda_runtime_cu12-12.4.127-py3-none-manylinux2014_x86_64.whl (883 kB)\n",
            "\u001b[2K   \u001b[90m━━━━━━━━━━━━━━━━━━━━━━━━━━━━━━━━━━━━━━━━\u001b[0m \u001b[32m883.7/883.7 kB\u001b[0m \u001b[31m52.2 MB/s\u001b[0m eta \u001b[36m0:00:00\u001b[0m\n",
            "\u001b[?25hDownloading nvidia_cudnn_cu12-9.1.0.70-py3-none-manylinux2014_x86_64.whl (664.8 MB)\n",
            "\u001b[2K   \u001b[90m━━━━━━━━━━━━━━━━━━━━━━━━━━━━━━━━━━━━━━━━\u001b[0m \u001b[32m664.8/664.8 MB\u001b[0m \u001b[31m2.2 MB/s\u001b[0m eta \u001b[36m0:00:00\u001b[0m\n",
            "\u001b[?25hDownloading nvidia_cufft_cu12-11.2.1.3-py3-none-manylinux2014_x86_64.whl (211.5 MB)\n",
            "\u001b[2K   \u001b[90m━━━━━━━━━━━━━━━━━━━━━━━━━━━━━━━━━━━━━━━━\u001b[0m \u001b[32m211.5/211.5 MB\u001b[0m \u001b[31m5.5 MB/s\u001b[0m eta \u001b[36m0:00:00\u001b[0m\n",
            "\u001b[?25hDownloading nvidia_curand_cu12-10.3.5.147-py3-none-manylinux2014_x86_64.whl (56.3 MB)\n",
            "\u001b[2K   \u001b[90m━━━━━━━━━━━━━━━━━━━━━━━━━━━━━━━━━━━━━━━━\u001b[0m \u001b[32m56.3/56.3 MB\u001b[0m \u001b[31m12.5 MB/s\u001b[0m eta \u001b[36m0:00:00\u001b[0m\n",
            "\u001b[?25hDownloading nvidia_cusolver_cu12-11.6.1.9-py3-none-manylinux2014_x86_64.whl (127.9 MB)\n",
            "\u001b[2K   \u001b[90m━━━━━━━━━━━━━━━━━━━━━━━━━━━━━━━━━━━━━━━━\u001b[0m \u001b[32m127.9/127.9 MB\u001b[0m \u001b[31m7.4 MB/s\u001b[0m eta \u001b[36m0:00:00\u001b[0m\n",
            "\u001b[?25hDownloading nvidia_cusparse_cu12-12.3.1.170-py3-none-manylinux2014_x86_64.whl (207.5 MB)\n",
            "\u001b[2K   \u001b[90m━━━━━━━━━━━━━━━━━━━━━━━━━━━━━━━━━━━━━━━━\u001b[0m \u001b[32m207.5/207.5 MB\u001b[0m \u001b[31m5.7 MB/s\u001b[0m eta \u001b[36m0:00:00\u001b[0m\n",
            "\u001b[?25hDownloading nvidia_nvjitlink_cu12-12.4.127-py3-none-manylinux2014_x86_64.whl (21.1 MB)\n",
            "\u001b[2K   \u001b[90m━━━━━━━━━━━━━━━━━━━━━━━━━━━━━━━━━━━━━━━━\u001b[0m \u001b[32m21.1/21.1 MB\u001b[0m \u001b[31m100.0 MB/s\u001b[0m eta \u001b[36m0:00:00\u001b[0m\n",
            "\u001b[?25hDownloading ultralytics-8.3.75-py3-none-any.whl (914 kB)\n",
            "\u001b[2K   \u001b[90m━━━━━━━━━━━━━━━━━━━━━━━━━━━━━━━━━━━━━━━━\u001b[0m \u001b[32m914.9/914.9 kB\u001b[0m \u001b[31m61.1 MB/s\u001b[0m eta \u001b[36m0:00:00\u001b[0m\n",
            "\u001b[?25hDownloading ultralytics_thop-2.0.14-py3-none-any.whl (26 kB)\n",
            "Installing collected packages: nvidia-nvjitlink-cu12, nvidia-curand-cu12, nvidia-cufft-cu12, nvidia-cuda-runtime-cu12, nvidia-cuda-nvrtc-cu12, nvidia-cuda-cupti-cu12, nvidia-cublas-cu12, nvidia-cusparse-cu12, nvidia-cudnn-cu12, nvidia-cusolver-cu12, ultralytics-thop, ultralytics\n",
            "  Attempting uninstall: nvidia-nvjitlink-cu12\n",
            "    Found existing installation: nvidia-nvjitlink-cu12 12.5.82\n",
            "    Uninstalling nvidia-nvjitlink-cu12-12.5.82:\n",
            "      Successfully uninstalled nvidia-nvjitlink-cu12-12.5.82\n",
            "  Attempting uninstall: nvidia-curand-cu12\n",
            "    Found existing installation: nvidia-curand-cu12 10.3.6.82\n",
            "    Uninstalling nvidia-curand-cu12-10.3.6.82:\n",
            "      Successfully uninstalled nvidia-curand-cu12-10.3.6.82\n",
            "  Attempting uninstall: nvidia-cufft-cu12\n",
            "    Found existing installation: nvidia-cufft-cu12 11.2.3.61\n",
            "    Uninstalling nvidia-cufft-cu12-11.2.3.61:\n",
            "      Successfully uninstalled nvidia-cufft-cu12-11.2.3.61\n",
            "  Attempting uninstall: nvidia-cuda-runtime-cu12\n",
            "    Found existing installation: nvidia-cuda-runtime-cu12 12.5.82\n",
            "    Uninstalling nvidia-cuda-runtime-cu12-12.5.82:\n",
            "      Successfully uninstalled nvidia-cuda-runtime-cu12-12.5.82\n",
            "  Attempting uninstall: nvidia-cuda-nvrtc-cu12\n",
            "    Found existing installation: nvidia-cuda-nvrtc-cu12 12.5.82\n",
            "    Uninstalling nvidia-cuda-nvrtc-cu12-12.5.82:\n",
            "      Successfully uninstalled nvidia-cuda-nvrtc-cu12-12.5.82\n",
            "  Attempting uninstall: nvidia-cuda-cupti-cu12\n",
            "    Found existing installation: nvidia-cuda-cupti-cu12 12.5.82\n",
            "    Uninstalling nvidia-cuda-cupti-cu12-12.5.82:\n",
            "      Successfully uninstalled nvidia-cuda-cupti-cu12-12.5.82\n",
            "  Attempting uninstall: nvidia-cublas-cu12\n",
            "    Found existing installation: nvidia-cublas-cu12 12.5.3.2\n",
            "    Uninstalling nvidia-cublas-cu12-12.5.3.2:\n",
            "      Successfully uninstalled nvidia-cublas-cu12-12.5.3.2\n",
            "  Attempting uninstall: nvidia-cusparse-cu12\n",
            "    Found existing installation: nvidia-cusparse-cu12 12.5.1.3\n",
            "    Uninstalling nvidia-cusparse-cu12-12.5.1.3:\n",
            "      Successfully uninstalled nvidia-cusparse-cu12-12.5.1.3\n",
            "  Attempting uninstall: nvidia-cudnn-cu12\n",
            "    Found existing installation: nvidia-cudnn-cu12 9.3.0.75\n",
            "    Uninstalling nvidia-cudnn-cu12-9.3.0.75:\n",
            "      Successfully uninstalled nvidia-cudnn-cu12-9.3.0.75\n",
            "  Attempting uninstall: nvidia-cusolver-cu12\n",
            "    Found existing installation: nvidia-cusolver-cu12 11.6.3.83\n",
            "    Uninstalling nvidia-cusolver-cu12-11.6.3.83:\n",
            "      Successfully uninstalled nvidia-cusolver-cu12-11.6.3.83\n",
            "Successfully installed nvidia-cublas-cu12-12.4.5.8 nvidia-cuda-cupti-cu12-12.4.127 nvidia-cuda-nvrtc-cu12-12.4.127 nvidia-cuda-runtime-cu12-12.4.127 nvidia-cudnn-cu12-9.1.0.70 nvidia-cufft-cu12-11.2.1.3 nvidia-curand-cu12-10.3.5.147 nvidia-cusolver-cu12-11.6.1.9 nvidia-cusparse-cu12-12.3.1.170 nvidia-nvjitlink-cu12-12.4.127 ultralytics-8.3.75 ultralytics-thop-2.0.14\n"
          ]
        }
      ],
      "source": [
        "#Set Up the Development Environment\n",
        "!pip install torch torchvision ultralytics opencv-python pandas matplotlib"
      ]
    },
    {
      "cell_type": "code",
      "source": [
        "# Step 2: Implement Food Detection (YOLO)\n",
        "#Load YOLO Model\n",
        "\n",
        "import torch\n",
        "\n",
        "# Load pre-trained YOLOv5 model\n",
        "model = torch.hub.load('ultralytics/yolov5', 'yolov5s', pretrained=True)\n",
        "\n",
        "# Test detection on a sample image\n",
        "image_path = '/content/food1.jpeg.jpg'\n",
        "results = model(image_path)\n",
        "results.show()\n"
      ],
      "metadata": {
        "colab": {
          "base_uri": "https://localhost:8080/",
          "height": 359
        },
        "id": "KrTipwg1qKvm",
        "outputId": "b9f1f109-5b98-4a8c-c2a2-393b45f03f89"
      },
      "execution_count": null,
      "outputs": [
        {
          "output_type": "stream",
          "name": "stderr",
          "text": [
            "Using cache found in /root/.cache/torch/hub/ultralytics_yolov5_master\n",
            "YOLOv5 🚀 2025-2-14 Python-3.11.11 torch-2.5.1+cu124 CPU\n",
            "\n",
            "Fusing layers... \n",
            "YOLOv5s summary: 213 layers, 7225885 parameters, 0 gradients, 16.4 GFLOPs\n",
            "Adding AutoShape... \n",
            "/root/.cache/torch/hub/ultralytics_yolov5_master/models/common.py:894: FutureWarning: `torch.cuda.amp.autocast(args...)` is deprecated. Please use `torch.amp.autocast('cuda', args...)` instead.\n",
            "  with amp.autocast(autocast):\n"
          ]
        },
        {
          "output_type": "display_data",
          "data": {
            "text/plain": [
              "<PIL.Image.Image image mode=RGB size=275x183>"
            ],
            "image/png": "[encoded data removed]",
            "image/jpeg": "[encoded data removed]"
          },
          "metadata": {}
        }
      ]
    },
    {
      "cell_type": "code",
      "source": [
        "# Step 3: Implement Portion Size Estimation\n",
        "#Estimate Portion Size Using OpenCV\n",
        "\n",
        "import cv2\n",
        "\n",
        "def estimate_portion(image_path):\n",
        "    image = cv2.imread(image_path)\n",
        "    gray = cv2.cvtColor(image, cv2.COLOR_BGR2GRAY)\n",
        "    edges = cv2.Canny(gray, 100, 200)\n",
        "\n",
        "    contours, _ = cv2.findContours(edges, cv2.RETR_EXTERNAL, cv2.CHAIN_APPROX_SIMPLE)\n",
        "    portion_size = None\n",
        "\n",
        "    for contour in contours:\n",
        "        if cv2.contourArea(contour) > 1000:\n",
        "            x, y, w, h = cv2.boundingRect(contour)\n",
        "            portion_size = w * h  # Basic estimation\n",
        "            break\n",
        "\n",
        "    return portion_size\n",
        "\n",
        "portion = estimate_portion('/content/low-fat-chicken-fillet-baked-with-ranch-seasoning-served-black-plate-with-broccoli-bacon_268847-723.jpg')\n",
        "print(\"Estimated Portion Size:\", portion)\n"
      ],
      "metadata": {
        "colab": {
          "base_uri": "https://localhost:8080/"
        },
        "id": "FpmUpB90rD4E",
        "outputId": "fbf00085-f031-4791-b9bc-19c8fbbdf6db"
      },
      "execution_count": null,
      "outputs": [
        {
          "output_type": "stream",
          "name": "stdout",
          "text": [
            "Estimated Portion Size: 17584\n"
          ]
        }
      ]
    },
    {
      "cell_type": "code",
      "source": [
        "# Step 4: Implement Macronutrient Calculation\n",
        "#Macronutrient Breakdown\n",
        "\n",
        "import pandas as pd\n",
        "\n",
        "# Load the dataset\n",
        "df = pd.read_csv(\"test.csv\")\n",
        "\n",
        "def get_macronutrients(food_name, portion_size):\n",
        "    # Ensure the 'Descrip' column is treated as a string\n",
        "    df['Descrip'] = df['Descrip'].astype(str)\n",
        "\n",
        "    # Find the food item in the dataset\n",
        "    food_item = df[df['Descrip'].str.contains(food_name, case=False, na=False)]\n",
        "\n",
        "    if food_item.empty:\n",
        "        return f\"Food item '{food_name}' not found in dataset.\"\n",
        "\n",
        "    # Extract macronutrients\n",
        "    energy = food_item.iloc[0]['Energy_kcal']\n",
        "    protein = food_item.iloc[0]['Protein_g']\n",
        "    fat = food_item.iloc[0]['Fat_g']\n",
        "    carbs = food_item.iloc[0]['Carb_g']\n",
        "\n",
        "    # Normalize based on portion size (assuming dataset values are per 100g)\n",
        "    factor = portion_size / 100\n",
        "\n",
        "    return {\n",
        "        'Energy_kcal': energy * factor,\n",
        "        'Protein_g': protein * factor,\n",
        "        'Fat_g': fat * factor,\n",
        "        'Carb_g': carbs * factor\n",
        "    }\n",
        "\n",
        "# Example usage\n",
        "portion_size = 150  # in grams\n",
        "food_name = 'Beef, chuck, under blade steak, boneless, separable lean and fat, trimmed to 0\" fat, all grades, cooked, braised'\n",
        "macros = get_macronutrients(food_name, portion_size)\n",
        "print(macros)\n",
        "\n",
        "\n"
      ],
      "metadata": {
        "colab": {
          "base_uri": "https://localhost:8080/"
        },
        "id": "U2aOc7-PsRDm",
        "outputId": "05488489-a5e8-4d3a-c0d0-e2fd39480ef5"
      },
      "execution_count": null,
      "outputs": [
        {
          "output_type": "stream",
          "name": "stdout",
          "text": [
            "{'Energy_kcal': 275.0, 'Protein_g': 28.23, 'Fat_g': 18.0, 'Carb_g': 0.0}\n"
          ]
        }
      ]
    },
    {
      "cell_type": "code",
      "source": [
        "# Step 5: Calorie & Macronutrient Calculation\n",
        "# 1. Load the dataset\n",
        "\n",
        "import pandas as pd\n",
        "\n",
        "# Load the dataset\n",
        "df = pd.read_csv('/content/test.csv')\n",
        "\n",
        "# Display first few rows to check structure\n",
        "print(df.head())\n"
      ],
      "metadata": {
        "colab": {
          "base_uri": "https://localhost:8080/"
        },
        "id": "w2X-495Xt4F9",
        "outputId": "69caa0e7-bf89-4a06-d232-369d96d85c37"
      },
      "execution_count": null,
      "outputs": [
        {
          "output_type": "stream",
          "name": "stdout",
          "text": [
            "      ID                       FoodGroup  \\\n",
            "0  23116                   Beef Products   \n",
            "1  10047                   Pork Products   \n",
            "2  15270  Finfish and Shellfish Products   \n",
            "3   1259          Dairy and Egg Products   \n",
            "4  19100                          Sweets   \n",
            "\n",
            "                                             Descrip  Energy_kcal  Protein_g  \\\n",
            "0  Beef, chuck, under blade steak, boneless, sepa...        275.0      28.23   \n",
            "1  Pork, fresh, loin, center rib (roasts), bone-i...        248.0      26.99   \n",
            "2                Crustaceans, shrimp, untreated, raw         85.0      20.10   \n",
            "3  Cheese spread, American or Cheddar cheese base...        176.0      13.41   \n",
            "4    Candies, fudge, chocolate, prepared-from-recipe        411.0       2.39   \n",
            "\n",
            "   Fat_g  Carb_g  Sugar_g  Fiber_g  VitA_mcg  ...  Folate_USRDA  Niacin_USRDA  \\\n",
            "0  18.00    0.00     0.00      0.0       8.0  ...        0.0175      0.235750   \n",
            "1  14.68    0.00     0.00      0.0       5.0  ...        0.0000      0.593125   \n",
            "2   0.51    0.00     0.00      0.0       0.0  ...        0.0000      0.000000   \n",
            "3   8.88   10.71     7.06      0.0     185.0  ...        0.0000      0.009562   \n",
            "4  10.41   76.44    73.12      1.7      44.0  ...        0.0100      0.011000   \n",
            "\n",
            "   Riboflavin_USRDA  Thiamin_USRDA  Calcium_USRDA  Copper_USRDA  \\\n",
            "0          0.173077       0.058333       0.011667      0.000100   \n",
            "1          0.226923       0.435000       0.015833      0.000094   \n",
            "2          0.000000       0.000000       0.053333      0.000434   \n",
            "3          0.340000       0.031667       0.464167      0.000036   \n",
            "4          0.065385       0.021667       0.040833      0.000366   \n",
            "\n",
            "   Magnesium_USRDA  Phosphorus_USRDA  Selenium_USRDA  Zinc_USRDA  \n",
            "0         0.047619          0.258571        0.585455    0.868182  \n",
            "1         0.050000          0.328571        0.730909    0.264545  \n",
            "2         0.083333          0.305714        0.000000    0.121818  \n",
            "3         0.064286          1.330000        0.281818    0.164545  \n",
            "4         0.085714          0.101429        0.045455    0.100909  \n",
            "\n",
            "[5 rows x 41 columns]\n"
          ]
        }
      ]
    },
    {
      "cell_type": "code",
      "source": [
        "# 2. Define the function to calculate macronutrients\n",
        "\n",
        "def get_macronutrients(food_name, portion_size):\n",
        "    # Find the food item in the dataset\n",
        "    food_item = df[df['Descrip'].str.contains(food_name, case=False, na=False)]\n",
        "\n",
        "    if food_item.empty:\n",
        "        return \"Food item not found in dataset.\"\n",
        "\n",
        "    # Get nutritional values per 100g\n",
        "    food_item = food_item.iloc[0]\n",
        "    energy_per_100g = food_item['Energy_kcal']\n",
        "    protein_per_100g = food_item['Protein_g']\n",
        "    fat_per_100g = food_item['Fat_g']\n",
        "    carb_per_100g = food_item['Carb_g']\n",
        "\n",
        "    # Scale to portion size\n",
        "    scaling_factor = portion_size / 100\n",
        "    macros = {\n",
        "        'Calories': energy_per_100g * scaling_factor,\n",
        "        'Protein': protein_per_100g * scaling_factor,\n",
        "        'Fat': fat_per_100g * scaling_factor,\n",
        "        'Carbohydrates': carb_per_100g * scaling_factor\n",
        "    }\n",
        "\n",
        "    return macros\n"
      ],
      "metadata": {
        "id": "Zradzi3vBOSj"
      },
      "execution_count": null,
      "outputs": []
    },
    {
      "cell_type": "code",
      "source": [
        "# 3. Test the function\n",
        "\n",
        "portion_size = 150  # in grams\n",
        "food_name = 'Rice'\n",
        "\n",
        "macros = get_macronutrients(food_name, portion_size)\n",
        "print(macros)\n"
      ],
      "metadata": {
        "colab": {
          "base_uri": "https://localhost:8080/"
        },
        "id": "oQY7xTljBiSU",
        "outputId": "87bb4fa5-25a9-41af-a149-d81183566768"
      },
      "execution_count": null,
      "outputs": [
        {
          "output_type": "stream",
          "name": "stdout",
          "text": [
            "{'Calories': 555.0, 'Protein': 10.215, 'Fat': 0.8250000000000001, 'Carbohydrates': 122.52000000000001}\n"
          ]
        }
      ]
    },
    {
      "cell_type": "code",
      "source": [
        "#improved\n",
        "\n",
        "import pandas as pd\n",
        "\n",
        "# Load the dataset\n",
        "df = pd.read_csv('/content/test.csv')\n",
        "\n",
        "# Convert food description to lowercase for better matching\n",
        "df['Descrip'] = df['Descrip'].astype(str).str.lower()\n",
        "\n",
        "def get_macronutrients(food_name, portion_size):\n",
        "    \"\"\"\n",
        "    Returns the macronutrient values for a given food item and portion size.\n",
        "    \"\"\"\n",
        "    food_name = food_name.lower().strip()  # Normalize input\n",
        "\n",
        "    # Find food item in dataset\n",
        "    matches = df[df['Descrip'].str.contains(food_name, case=False, na=False)]\n",
        "\n",
        "    if matches.empty:\n",
        "        return f\"❌ Food item '{food_name}' not found in dataset.\"\n",
        "\n",
        "    # Take the first match (best match)\n",
        "    food_item = matches.iloc[0]\n",
        "\n",
        "    # Handle missing values\n",
        "    energy_per_100g = food_item.get('Energy_kcal', 0) or 0\n",
        "    protein_per_100g = food_item.get('Protein_g', 0) or 0\n",
        "    fat_per_100g = food_item.get('Fat_g', 0) or 0\n",
        "    carb_per_100g = food_item.get('Carb_g', 0) or 0\n",
        "\n",
        "    # Scale nutrients to portion size\n",
        "    scaling_factor = portion_size / 100\n",
        "    macros = {\n",
        "        'Calories': round(energy_per_100g * scaling_factor, 2),\n",
        "        'Protein': round(protein_per_100g * scaling_factor, 2),\n",
        "        'Fat': round(fat_per_100g * scaling_factor, 2),\n",
        "        'Carbohydrates': round(carb_per_100g * scaling_factor, 2),\n",
        "    }\n",
        "\n",
        "    return macros\n",
        "\n",
        "# Test the function\n",
        "portion_size = 150  # grams\n",
        "food_name = 'beef '\n",
        "\n",
        "result = get_macronutrients(food_name, portion_size)\n",
        "print(result)\n"
      ],
      "metadata": {
        "colab": {
          "base_uri": "https://localhost:8080/",
          "height": 373
        },
        "id": "UsihRKHlBuT5",
        "outputId": "a31a4e22-a995-4103-e04a-6dbb5b6ec277"
      },
      "execution_count": null,
      "outputs": [
        {
          "output_type": "error",
          "ename": "FileNotFoundError",
          "evalue": "[Errno 2] No such file or directory: '/content/test.csv'",
          "traceback": [
            "\u001b[0;31m---------------------------------------------------------------------------\u001b[0m",
            "\u001b[0;31mFileNotFoundError\u001b[0m                         Traceback (most recent call last)",
            "\u001b[0;32m<ipython-input-1-f2179a0abc49>\u001b[0m in \u001b[0;36m<cell line: 0>\u001b[0;34m()\u001b[0m\n\u001b[1;32m      4\u001b[0m \u001b[0;34m\u001b[0m\u001b[0m\n\u001b[1;32m      5\u001b[0m \u001b[0;31m# Load the dataset\u001b[0m\u001b[0;34m\u001b[0m\u001b[0;34m\u001b[0m\u001b[0m\n\u001b[0;32m----> 6\u001b[0;31m \u001b[0mdf\u001b[0m \u001b[0;34m=\u001b[0m \u001b[0mpd\u001b[0m\u001b[0;34m.\u001b[0m\u001b[0mread_csv\u001b[0m\u001b[0;34m(\u001b[0m\u001b[0;34m'/content/test.csv'\u001b[0m\u001b[0;34m)\u001b[0m\u001b[0;34m\u001b[0m\u001b[0;34m\u001b[0m\u001b[0m\n\u001b[0m\u001b[1;32m      7\u001b[0m \u001b[0;34m\u001b[0m\u001b[0m\n\u001b[1;32m      8\u001b[0m \u001b[0;31m# Convert food description to lowercase for better matching\u001b[0m\u001b[0;34m\u001b[0m\u001b[0;34m\u001b[0m\u001b[0m\n",
            "\u001b[0;32m/usr/local/lib/python3.11/dist-packages/pandas/io/parsers/readers.py\u001b[0m in \u001b[0;36mread_csv\u001b[0;34m(filepath_or_buffer, sep, delimiter, header, names, index_col, usecols, dtype, engine, converters, true_values, false_values, skipinitialspace, skiprows, skipfooter, nrows, na_values, keep_default_na, na_filter, verbose, skip_blank_lines, parse_dates, infer_datetime_format, keep_date_col, date_parser, date_format, dayfirst, cache_dates, iterator, chunksize, compression, thousands, decimal, lineterminator, quotechar, quoting, doublequote, escapechar, comment, encoding, encoding_errors, dialect, on_bad_lines, delim_whitespace, low_memory, memory_map, float_precision, storage_options, dtype_backend)\u001b[0m\n\u001b[1;32m   1024\u001b[0m     \u001b[0mkwds\u001b[0m\u001b[0;34m.\u001b[0m\u001b[0mupdate\u001b[0m\u001b[0;34m(\u001b[0m\u001b[0mkwds_defaults\u001b[0m\u001b[0;34m)\u001b[0m\u001b[0;34m\u001b[0m\u001b[0;34m\u001b[0m\u001b[0m\n\u001b[1;32m   1025\u001b[0m \u001b[0;34m\u001b[0m\u001b[0m\n\u001b[0;32m-> 1026\u001b[0;31m     \u001b[0;32mreturn\u001b[0m \u001b[0m_read\u001b[0m\u001b[0;34m(\u001b[0m\u001b[0mfilepath_or_buffer\u001b[0m\u001b[0;34m,\u001b[0m \u001b[0mkwds\u001b[0m\u001b[0;34m)\u001b[0m\u001b[0;34m\u001b[0m\u001b[0;34m\u001b[0m\u001b[0m\n\u001b[0m\u001b[1;32m   1027\u001b[0m \u001b[0;34m\u001b[0m\u001b[0m\n\u001b[1;32m   1028\u001b[0m \u001b[0;34m\u001b[0m\u001b[0m\n",
            "\u001b[0;32m/usr/local/lib/python3.11/dist-packages/pandas/io/parsers/readers.py\u001b[0m in \u001b[0;36m_read\u001b[0;34m(filepath_or_buffer, kwds)\u001b[0m\n\u001b[1;32m    618\u001b[0m \u001b[0;34m\u001b[0m\u001b[0m\n\u001b[1;32m    619\u001b[0m     \u001b[0;31m# Create the parser.\u001b[0m\u001b[0;34m\u001b[0m\u001b[0;34m\u001b[0m\u001b[0m\n\u001b[0;32m--> 620\u001b[0;31m     \u001b[0mparser\u001b[0m \u001b[0;34m=\u001b[0m \u001b[0mTextFileReader\u001b[0m\u001b[0;34m(\u001b[0m\u001b[0mfilepath_or_buffer\u001b[0m\u001b[0;34m,\u001b[0m \u001b[0;34m**\u001b[0m\u001b[0mkwds\u001b[0m\u001b[0;34m)\u001b[0m\u001b[0;34m\u001b[0m\u001b[0;34m\u001b[0m\u001b[0m\n\u001b[0m\u001b[1;32m    621\u001b[0m \u001b[0;34m\u001b[0m\u001b[0m\n\u001b[1;32m    622\u001b[0m     \u001b[0;32mif\u001b[0m \u001b[0mchunksize\u001b[0m \u001b[0;32mor\u001b[0m \u001b[0miterator\u001b[0m\u001b[0;34m:\u001b[0m\u001b[0;34m\u001b[0m\u001b[0;34m\u001b[0m\u001b[0m\n",
            "\u001b[0;32m/usr/local/lib/python3.11/dist-packages/pandas/io/parsers/readers.py\u001b[0m in \u001b[0;36m__init__\u001b[0;34m(self, f, engine, **kwds)\u001b[0m\n\u001b[1;32m   1618\u001b[0m \u001b[0;34m\u001b[0m\u001b[0m\n\u001b[1;32m   1619\u001b[0m         \u001b[0mself\u001b[0m\u001b[0;34m.\u001b[0m\u001b[0mhandles\u001b[0m\u001b[0;34m:\u001b[0m \u001b[0mIOHandles\u001b[0m \u001b[0;34m|\u001b[0m \u001b[0;32mNone\u001b[0m \u001b[0;34m=\u001b[0m \u001b[0;32mNone\u001b[0m\u001b[0;34m\u001b[0m\u001b[0;34m\u001b[0m\u001b[0m\n\u001b[0;32m-> 1620\u001b[0;31m         \u001b[0mself\u001b[0m\u001b[0;34m.\u001b[0m\u001b[0m_engine\u001b[0m \u001b[0;34m=\u001b[0m \u001b[0mself\u001b[0m\u001b[0;34m.\u001b[0m\u001b[0m_make_engine\u001b[0m\u001b[0;34m(\u001b[0m\u001b[0mf\u001b[0m\u001b[0;34m,\u001b[0m \u001b[0mself\u001b[0m\u001b[0;34m.\u001b[0m\u001b[0mengine\u001b[0m\u001b[0;34m)\u001b[0m\u001b[0;34m\u001b[0m\u001b[0;34m\u001b[0m\u001b[0m\n\u001b[0m\u001b[1;32m   1621\u001b[0m \u001b[0;34m\u001b[0m\u001b[0m\n\u001b[1;32m   1622\u001b[0m     \u001b[0;32mdef\u001b[0m \u001b[0mclose\u001b[0m\u001b[0;34m(\u001b[0m\u001b[0mself\u001b[0m\u001b[0;34m)\u001b[0m \u001b[0;34m->\u001b[0m \u001b[0;32mNone\u001b[0m\u001b[0;34m:\u001b[0m\u001b[0;34m\u001b[0m\u001b[0;34m\u001b[0m\u001b[0m\n",
            "\u001b[0;32m/usr/local/lib/python3.11/dist-packages/pandas/io/parsers/readers.py\u001b[0m in \u001b[0;36m_make_engine\u001b[0;34m(self, f, engine)\u001b[0m\n\u001b[1;32m   1878\u001b[0m                 \u001b[0;32mif\u001b[0m \u001b[0;34m\"b\"\u001b[0m \u001b[0;32mnot\u001b[0m \u001b[0;32min\u001b[0m \u001b[0mmode\u001b[0m\u001b[0;34m:\u001b[0m\u001b[0;34m\u001b[0m\u001b[0;34m\u001b[0m\u001b[0m\n\u001b[1;32m   1879\u001b[0m                     \u001b[0mmode\u001b[0m \u001b[0;34m+=\u001b[0m \u001b[0;34m\"b\"\u001b[0m\u001b[0;34m\u001b[0m\u001b[0;34m\u001b[0m\u001b[0m\n\u001b[0;32m-> 1880\u001b[0;31m             self.handles = get_handle(\n\u001b[0m\u001b[1;32m   1881\u001b[0m                 \u001b[0mf\u001b[0m\u001b[0;34m,\u001b[0m\u001b[0;34m\u001b[0m\u001b[0;34m\u001b[0m\u001b[0m\n\u001b[1;32m   1882\u001b[0m                 \u001b[0mmode\u001b[0m\u001b[0;34m,\u001b[0m\u001b[0;34m\u001b[0m\u001b[0;34m\u001b[0m\u001b[0m\n",
            "\u001b[0;32m/usr/local/lib/python3.11/dist-packages/pandas/io/common.py\u001b[0m in \u001b[0;36mget_handle\u001b[0;34m(path_or_buf, mode, encoding, compression, memory_map, is_text, errors, storage_options)\u001b[0m\n\u001b[1;32m    871\u001b[0m         \u001b[0;32mif\u001b[0m \u001b[0mioargs\u001b[0m\u001b[0;34m.\u001b[0m\u001b[0mencoding\u001b[0m \u001b[0;32mand\u001b[0m \u001b[0;34m\"b\"\u001b[0m \u001b[0;32mnot\u001b[0m \u001b[0;32min\u001b[0m \u001b[0mioargs\u001b[0m\u001b[0;34m.\u001b[0m\u001b[0mmode\u001b[0m\u001b[0;34m:\u001b[0m\u001b[0;34m\u001b[0m\u001b[0;34m\u001b[0m\u001b[0m\n\u001b[1;32m    872\u001b[0m             \u001b[0;31m# Encoding\u001b[0m\u001b[0;34m\u001b[0m\u001b[0;34m\u001b[0m\u001b[0m\n\u001b[0;32m--> 873\u001b[0;31m             handle = open(\n\u001b[0m\u001b[1;32m    874\u001b[0m                 \u001b[0mhandle\u001b[0m\u001b[0;34m,\u001b[0m\u001b[0;34m\u001b[0m\u001b[0;34m\u001b[0m\u001b[0m\n\u001b[1;32m    875\u001b[0m                 \u001b[0mioargs\u001b[0m\u001b[0;34m.\u001b[0m\u001b[0mmode\u001b[0m\u001b[0;34m,\u001b[0m\u001b[0;34m\u001b[0m\u001b[0;34m\u001b[0m\u001b[0m\n",
            "\u001b[0;31mFileNotFoundError\u001b[0m: [Errno 2] No such file or directory: '/content/test.csv'"
          ]
        }
      ]
    },
    {
      "cell_type": "code",
      "source": [
        "# Bone Health Nutrient Analyzer Integration\n",
        "\n",
        "import matplotlib.pyplot as plt\n",
        "import numpy as np\n",
        "\n",
        "def analyze_bone_health(nutrient_intake, age, gender):\n",
        "    \"\"\"Analyzes bone health based on nutrient intake, age, and gender.\"\"\"\n",
        "    recommended_intake = {\n",
        "        \"calcium\": 1000 if age < 50 else 1200,\n",
        "        \"vitamin_d\": 600 if age < 70 else 800,\n",
        "        \"phosphorus\": 700,\n",
        "        \"magnesium\": 320 if gender == 'female' else 420,\n",
        "        \"vitamin_k\": 90 if gender == 'female' else 120,\n",
        "    }\n",
        "\n",
        "    deficiencies = {}\n",
        "    for nutrient, value in nutrient_intake.items():\n",
        "        if value < recommended_intake[nutrient]:\n",
        "            deficiencies[nutrient] = recommended_intake[nutrient] - value\n",
        "\n",
        "    return deficiencies\n",
        "\n",
        "def generate_chart(nutrient_intake, age, gender):\n",
        "    \"\"\"Generates a progress chart for nutrient intake.\"\"\"\n",
        "    nutrients = list(nutrient_intake.keys())\n",
        "    values = list(nutrient_intake.values())\n",
        "    recommended_values = [1000 if n == 'calcium' else\n",
        "                          600 if n == 'vitamin_d' else\n",
        "                          700 if n == 'phosphorus' else\n",
        "                          (320 if gender == 'female' else 420) if n == 'magnesium' else\n",
        "                          (90 if gender == 'female' else 120) for n in nutrients]\n",
        "\n",
        "    x = np.arange(len(nutrients))\n",
        "    plt.bar(x - 0.2, values, 0.4, label='Your Intake')\n",
        "    plt.bar(x + 0.2, recommended_values, 0.4, label='Recommended')\n",
        "    plt.xticks(x, nutrients)\n",
        "    plt.ylabel('Intake (mg or IU)')\n",
        "    plt.title('Bone Health Nutrient Analysis')\n",
        "    plt.legend()\n",
        "    plt.show()\n",
        "\n",
        "\n",
        "def food_recommendations(deficiencies):\n",
        "    \"\"\"Provides food recommendations based on deficiencies.\"\"\"\n",
        "    food_sources = {\n",
        "        \"calcium\": [\"Milk\", \"Yogurt\", \"Cheese\", \"Tofu\", \"Leafy greens\"],\n",
        "        \"vitamin_d\": [\"Salmon\", \"Mushrooms\", \"Fortified milk\", \"Egg yolks\"],\n",
        "        \"phosphorus\": [\"Chicken\", \"Fish\", \"Nuts\", \"Beans\", \"Dairy\"],\n",
        "        \"magnesium\": [\"Almonds\", \"Spinach\", \"Avocados\", \"Bananas\"],\n",
        "        \"vitamin_k\": [\"Kale\", \"Broccoli\", \"Brussels sprouts\", \"Natto\"],\n",
        "    }\n",
        "\n",
        "    recommendations = {}\n",
        "    for nutrient, deficiency in deficiencies.items():\n",
        "        recommendations[nutrient] = food_sources.get(nutrient, [])\n",
        "\n",
        "    return recommendations\n",
        "\n",
        "# Example Usage\n",
        "nutrient_intake = {\"calcium\": 800, \"vitamin_d\": 500, \"phosphorus\": 600, \"magnesium\": 300, \"vitamin_k\": 80}\n",
        "age = 30\n",
        "gender = \"female\"\n",
        "\n",
        "deficiencies = analyze_bone_health(nutrient_intake, age, gender)\n",
        "print(\"Deficiencies Detected:\", deficiencies)\n",
        "\n",
        "generate_chart(nutrient_intake, age, gender)\n",
        "\n",
        "recommendations = food_recommendations(deficiencies)\n",
        "print(\"Food Recommendations:\", recommendations)\n"
      ],
      "metadata": {
        "colab": {
          "base_uri": "https://localhost:8080/",
          "height": 507
        },
        "id": "harAsHYhCSOs",
        "outputId": "661d3cca-b9dd-4d55-f4c5-44a45c5b4df2"
      },
      "execution_count": null,
      "outputs": [
        {
          "output_type": "stream",
          "name": "stdout",
          "text": [
            "Deficiencies Detected: {'calcium': 200, 'vitamin_d': 100, 'phosphorus': 100, 'magnesium': 20, 'vitamin_k': 10}\n"
          ]
        },
        {
          "output_type": "display_data",
          "data": {
            "text/plain": [
              "<Figure size 640x480 with 1 Axes>"
            ],
            "image/png": "[encoded data removed]"
          },
          "metadata": {}
        },
        {
          "output_type": "stream",
          "name": "stdout",
          "text": [
            "Food Recommendations: {'calcium': ['Milk', 'Yogurt', 'Cheese', 'Tofu', 'Leafy greens'], 'vitamin_d': ['Salmon', 'Mushrooms', 'Fortified milk', 'Egg yolks'], 'phosphorus': ['Chicken', 'Fish', 'Nuts', 'Beans', 'Dairy'], 'magnesium': ['Almonds', 'Spinach', 'Avocados', 'Bananas'], 'vitamin_k': ['Kale', 'Broccoli', 'Brussels sprouts', 'Natto']}\n"
          ]
        }
      ]
    },
    {
      "cell_type": "code",
      "source": [
        "import pandas as pd\n",
        "\n",
        "def classify_bmd(bmd_value):\n",
        "    if bmd_value >= -1.0:\n",
        "        return \"Normal\"\n",
        "    elif -2.5 < bmd_value < -1.0:\n",
        "        return \"Osteopenia\"\n",
        "    else:\n",
        "        return \"Osteoporosis\"\n",
        "\n",
        "def get_nutrient_recommendations(bmd_category):\n",
        "    recommendations = {\n",
        "        \"Normal\": {\"Calcium\": \"1000 mg\", \"Vitamin D\": \"600 IU\", \"Magnesium\": \"310-420 mg\"},\n",
        "        \"Osteopenia\": {\"Calcium\": \"1200 mg\", \"Vitamin D\": \"800 IU\", \"Magnesium\": \"320-420 mg\"},\n",
        "        \"Osteoporosis\": {\"Calcium\": \"1200-1500 mg\", \"Vitamin D\": \"1000 IU\", \"Magnesium\": \"400-500 mg\"}\n",
        "    }\n",
        "    return recommendations.get(bmd_category, {})\n",
        "\n",
        "def analyze_bone_health(data):\n",
        "    data[\"BMD Category\"] = data[\"bmd\"].apply(classify_bmd)\n",
        "    data[\"Nutrient Recommendations\"] = data[\"BMD Category\"].apply(get_nutrient_recommendations)\n",
        "    return data\n",
        "\n",
        "# Load dataset\n",
        "df = pd.read_csv(\"/content/bmd.csv\")  # Ensure correct file path\n",
        "\n",
        "# Run analysis\n",
        "df = analyze_bone_health(df)\n",
        "print(df[[\"id\", \"age\", \"sex\", \"bmd\", \"BMD Category\", \"Nutrient Recommendations\"]])\n"
      ],
      "metadata": {
        "colab": {
          "base_uri": "https://localhost:8080/"
        },
        "id": "s2uz2OVGKVkJ",
        "outputId": "35b54b79-9fab-40b7-d6ef-11b72e77bb11"
      },
      "execution_count": null,
      "outputs": [
        {
          "output_type": "stream",
          "name": "stdout",
          "text": [
            "        id        age sex     bmd BMD Category  \\\n",
            "0      469  57.052768   F  0.8793       Normal   \n",
            "1     8724  75.741225   F  0.7946       Normal   \n",
            "2     6736  70.778900   M  0.9067       Normal   \n",
            "3    24180  78.247175   F  0.7112       Normal   \n",
            "4    17072  54.191877   M  0.7909       Normal   \n",
            "..     ...        ...  ..     ...          ...   \n",
            "164  21892  77.982543   M  0.7941       Normal   \n",
            "165  24140  50.285303   F  0.7971       Normal   \n",
            "166   6969  46.359721   M  0.8037       Normal   \n",
            "167   5505  54.788368   M  0.8072       Normal   \n",
            "168     71  69.994822   F  0.8664       Normal   \n",
            "\n",
            "                              Nutrient Recommendations  \n",
            "0    {'Calcium': '1000 mg', 'Vitamin D': '600 IU', ...  \n",
            "1    {'Calcium': '1000 mg', 'Vitamin D': '600 IU', ...  \n",
            "2    {'Calcium': '1000 mg', 'Vitamin D': '600 IU', ...  \n",
            "3    {'Calcium': '1000 mg', 'Vitamin D': '600 IU', ...  \n",
            "4    {'Calcium': '1000 mg', 'Vitamin D': '600 IU', ...  \n",
            "..                                                 ...  \n",
            "164  {'Calcium': '1000 mg', 'Vitamin D': '600 IU', ...  \n",
            "165  {'Calcium': '1000 mg', 'Vitamin D': '600 IU', ...  \n",
            "166  {'Calcium': '1000 mg', 'Vitamin D': '600 IU', ...  \n",
            "167  {'Calcium': '1000 mg', 'Vitamin D': '600 IU', ...  \n",
            "168  {'Calcium': '1000 mg', 'Vitamin D': '600 IU', ...  \n",
            "\n",
            "[169 rows x 6 columns]\n"
          ]
        }
      ]
    },
    {
      "cell_type": "code",
      "source": [
        "import pandas as pd\n",
        "\n",
        "# Load the dataset\n",
        "file_path = \"/content/bmd.csv\"  # Adjust the path if needed\n",
        "df = pd.read_csv(file_path)\n",
        "\n",
        "# Display dataset information\n",
        "df.info()\n",
        "\n",
        "# Display the first few rows\n",
        "df.head()\n"
      ],
      "metadata": {
        "colab": {
          "base_uri": "https://localhost:8080/",
          "height": 590
        },
        "id": "qCBrhTS2PCbt",
        "outputId": "d250401b-52a7-42d8-9f72-97f49ba0b06d"
      },
      "execution_count": null,
      "outputs": [
        {
          "output_type": "stream",
          "name": "stdout",
          "text": [
            "<class 'pandas.core.frame.DataFrame'>\n",
            "RangeIndex: 169 entries, 0 to 168\n",
            "Data columns (total 9 columns):\n",
            " #   Column        Non-Null Count  Dtype  \n",
            "---  ------        --------------  -----  \n",
            " 0   id            169 non-null    int64  \n",
            " 1   age           169 non-null    float64\n",
            " 2   sex           169 non-null    object \n",
            " 3   fracture      169 non-null    object \n",
            " 4   weight_kg     169 non-null    float64\n",
            " 5   height_cm     169 non-null    float64\n",
            " 6   medication    169 non-null    object \n",
            " 7   waiting_time  169 non-null    int64  \n",
            " 8   bmd           169 non-null    float64\n",
            "dtypes: float64(4), int64(2), object(3)\n",
            "memory usage: 12.0+ KB\n"
          ]
        },
        {
          "output_type": "execute_result",
          "data": {
            "text/plain": [
              "      id        age sex     fracture  weight_kg  height_cm      medication  \\\n",
              "0    469  57.052768   F  no fracture       64.0      155.5  Anticonvulsant   \n",
              "1   8724  75.741225   F  no fracture       78.0      162.0   No medication   \n",
              "2   6736  70.778900   M  no fracture       73.0      170.5   No medication   \n",
              "3  24180  78.247175   F  no fracture       60.0      148.0   No medication   \n",
              "4  17072  54.191877   M  no fracture       55.0      161.0   No medication   \n",
              "\n",
              "   waiting_time     bmd  \n",
              "0            18  0.8793  \n",
              "1            56  0.7946  \n",
              "2            10  0.9067  \n",
              "3            14  0.7112  \n",
              "4            20  0.7909  "
            ],
            "text/html": [
              "\n",
              "  <div id=\"df-514f8d1b-e69e-4048-b9ba-1ffbf70f2986\" class=\"colab-df-container\">\n",
              "    <div>\n",
              "<style scoped>\n",
              "    .dataframe tbody tr th:only-of-type {\n",
              "        vertical-align: middle;\n",
              "    }\n",
              "\n",
              "    .dataframe tbody tr th {\n",
              "        vertical-align: top;\n",
              "    }\n",
              "\n",
              "    .dataframe thead th {\n",
              "        text-align: right;\n",
              "    }\n",
              "</style>\n",
              "<table border=\"1\" class=\"dataframe\">\n",
              "  <thead>\n",
              "    <tr style=\"text-align: right;\">\n",
              "      <th></th>\n",
              "      <th>id</th>\n",
              "      <th>age</th>\n",
              "      <th>sex</th>\n",
              "      <th>fracture</th>\n",
              "      <th>weight_kg</th>\n",
              "      <th>height_cm</th>\n",
              "      <th>medication</th>\n",
              "      <th>waiting_time</th>\n",
              "      <th>bmd</th>\n",
              "    </tr>\n",
              "  </thead>\n",
              "  <tbody>\n",
              "    <tr>\n",
              "      <th>0</th>\n",
              "      <td>469</td>\n",
              "      <td>57.052768</td>\n",
              "      <td>F</td>\n",
              "      <td>no fracture</td>\n",
              "      <td>64.0</td>\n",
              "      <td>155.5</td>\n",
              "      <td>Anticonvulsant</td>\n",
              "      <td>18</td>\n",
              "      <td>0.8793</td>\n",
              "    </tr>\n",
              "    <tr>\n",
              "      <th>1</th>\n",
              "      <td>8724</td>\n",
              "      <td>75.741225</td>\n",
              "      <td>F</td>\n",
              "      <td>no fracture</td>\n",
              "      <td>78.0</td>\n",
              "      <td>162.0</td>\n",
              "      <td>No medication</td>\n",
              "      <td>56</td>\n",
              "      <td>0.7946</td>\n",
              "    </tr>\n",
              "    <tr>\n",
              "      <th>2</th>\n",
              "      <td>6736</td>\n",
              "      <td>70.778900</td>\n",
              "      <td>M</td>\n",
              "      <td>no fracture</td>\n",
              "      <td>73.0</td>\n",
              "      <td>170.5</td>\n",
              "      <td>No medication</td>\n",
              "      <td>10</td>\n",
              "      <td>0.9067</td>\n",
              "    </tr>\n",
              "    <tr>\n",
              "      <th>3</th>\n",
              "      <td>24180</td>\n",
              "      <td>78.247175</td>\n",
              "      <td>F</td>\n",
              "      <td>no fracture</td>\n",
              "      <td>60.0</td>\n",
              "      <td>148.0</td>\n",
              "      <td>No medication</td>\n",
              "      <td>14</td>\n",
              "      <td>0.7112</td>\n",
              "    </tr>\n",
              "    <tr>\n",
              "      <th>4</th>\n",
              "      <td>17072</td>\n",
              "      <td>54.191877</td>\n",
              "      <td>M</td>\n",
              "      <td>no fracture</td>\n",
              "      <td>55.0</td>\n",
              "      <td>161.0</td>\n",
              "      <td>No medication</td>\n",
              "      <td>20</td>\n",
              "      <td>0.7909</td>\n",
              "    </tr>\n",
              "  </tbody>\n",
              "</table>\n",
              "</div>\n",
              "    <div class=\"colab-df-buttons\">\n",
              "\n",
              "  <div class=\"colab-df-container\">\n",
              "    <button class=\"colab-df-convert\" onclick=\"convertToInteractive('df-514f8d1b-e69e-4048-b9ba-1ffbf70f2986')\"\n",
              "            title=\"Convert this dataframe to an interactive table.\"\n",
              "            style=\"display:none;\">\n",
              "\n",
              "  <svg xmlns=\"http://www.w3.org/2000/svg\" height=\"24px\" viewBox=\"0 -960 960 960\">\n",
              "    <path d=\"M120-120v-720h720v720H120Zm60-500h600v-160H180v160Zm220 220h160v-160H400v160Zm0 220h160v-160H400v160ZM180-400h160v-160H180v160Zm440 0h160v-160H620v160ZM180-180h160v-160H180v160Zm440 0h160v-160H620v160Z\"/>\n",
              "  </svg>\n",
              "    </button>\n",
              "\n",
              "  <style>\n",
              "    .colab-df-container {\n",
              "      display:flex;\n",
              "      gap: 12px;\n",
              "    }\n",
              "\n",
              "    .colab-df-convert {\n",
              "      background-color: #E8F0FE;\n",
              "      border: none;\n",
              "      border-radius: 50%;\n",
              "      cursor: pointer;\n",
              "      display: none;\n",
              "      fill: #1967D2;\n",
              "      height: 32px;\n",
              "      padding: 0 0 0 0;\n",
              "      width: 32px;\n",
              "    }\n",
              "\n",
              "    .colab-df-convert:hover {\n",
              "      background-color: #E2EBFA;\n",
              "      box-shadow: 0px 1px 2px rgba(60, 64, 67, 0.3), 0px 1px 3px 1px rgba(60, 64, 67, 0.15);\n",
              "      fill: #174EA6;\n",
              "    }\n",
              "\n",
              "    .colab-df-buttons div {\n",
              "      margin-bottom: 4px;\n",
              "    }\n",
              "\n",
              "    [theme=dark] .colab-df-convert {\n",
              "      background-color: #3B4455;\n",
              "      fill: #D2E3FC;\n",
              "    }\n",
              "\n",
              "    [theme=dark] .colab-df-convert:hover {\n",
              "      background-color: #434B5C;\n",
              "      box-shadow: 0px 1px 3px 1px rgba(0, 0, 0, 0.15);\n",
              "      filter: drop-shadow(0px 1px 2px rgba(0, 0, 0, 0.3));\n",
              "      fill: #FFFFFF;\n",
              "    }\n",
              "  </style>\n",
              "\n",
              "    <script>\n",
              "      const buttonEl =\n",
              "        document.querySelector('#df-514f8d1b-e69e-4048-b9ba-1ffbf70f2986 button.colab-df-convert');\n",
              "      buttonEl.style.display =\n",
              "        google.colab.kernel.accessAllowed ? 'block' : 'none';\n",
              "\n",
              "      async function convertToInteractive(key) {\n",
              "        const element = document.querySelector('#df-514f8d1b-e69e-4048-b9ba-1ffbf70f2986');\n",
              "        const dataTable =\n",
              "          await google.colab.kernel.invokeFunction('convertToInteractive',\n",
              "                                                    [key], {});\n",
              "        if (!dataTable) return;\n",
              "\n",
              "        const docLinkHtml = 'Like what you see? Visit the ' +\n",
              "          '<a target=\"_blank\" href=https://colab.research.google.com/notebooks/data_table.ipynb>data table notebook</a>'\n",
              "          + ' to learn more about interactive tables.';\n",
              "        element.innerHTML = '';\n",
              "        dataTable['output_type'] = 'display_data';\n",
              "        await google.colab.output.renderOutput(dataTable, element);\n",
              "        const docLink = document.createElement('div');\n",
              "        docLink.innerHTML = docLinkHtml;\n",
              "        element.appendChild(docLink);\n",
              "      }\n",
              "    </script>\n",
              "  </div>\n",
              "\n",
              "\n",
              "<div id=\"df-ad6807d8-1292-4b82-a28c-4b00cd8ed763\">\n",
              "  <button class=\"colab-df-quickchart\" onclick=\"quickchart('df-ad6807d8-1292-4b82-a28c-4b00cd8ed763')\"\n",
              "            title=\"Suggest charts\"\n",
              "            style=\"display:none;\">\n",
              "\n",
              "<svg xmlns=\"http://www.w3.org/2000/svg\" height=\"24px\"viewBox=\"0 0 24 24\"\n",
              "     width=\"24px\">\n",
              "    <g>\n",
              "        <path d=\"M19 3H5c-1.1 0-2 .9-2 2v14c0 1.1.9 2 2 2h14c1.1 0 2-.9 2-2V5c0-1.1-.9-2-2-2zM9 17H7v-7h2v7zm4 0h-2V7h2v10zm4 0h-2v-4h2v4z\"/>\n",
              "    </g>\n",
              "</svg>\n",
              "  </button>\n",
              "\n",
              "<style>\n",
              "  .colab-df-quickchart {\n",
              "      --bg-color: #E8F0FE;\n",
              "      --fill-color: #1967D2;\n",
              "      --hover-bg-color: #E2EBFA;\n",
              "      --hover-fill-color: #174EA6;\n",
              "      --disabled-fill-color: #AAA;\n",
              "      --disabled-bg-color: #DDD;\n",
              "  }\n",
              "\n",
              "  [theme=dark] .colab-df-quickchart {\n",
              "      --bg-color: #3B4455;\n",
              "      --fill-color: #D2E3FC;\n",
              "      --hover-bg-color: #434B5C;\n",
              "      --hover-fill-color: #FFFFFF;\n",
              "      --disabled-bg-color: #3B4455;\n",
              "      --disabled-fill-color: #666;\n",
              "  }\n",
              "\n",
              "  .colab-df-quickchart {\n",
              "    background-color: var(--bg-color);\n",
              "    border: none;\n",
              "    border-radius: 50%;\n",
              "    cursor: pointer;\n",
              "    display: none;\n",
              "    fill: var(--fill-color);\n",
              "    height: 32px;\n",
              "    padding: 0;\n",
              "    width: 32px;\n",
              "  }\n",
              "\n",
              "  .colab-df-quickchart:hover {\n",
              "    background-color: var(--hover-bg-color);\n",
              "    box-shadow: 0 1px 2px rgba(60, 64, 67, 0.3), 0 1px 3px 1px rgba(60, 64, 67, 0.15);\n",
              "    fill: var(--button-hover-fill-color);\n",
              "  }\n",
              "\n",
              "  .colab-df-quickchart-complete:disabled,\n",
              "  .colab-df-quickchart-complete:disabled:hover {\n",
              "    background-color: var(--disabled-bg-color);\n",
              "    fill: var(--disabled-fill-color);\n",
              "    box-shadow: none;\n",
              "  }\n",
              "\n",
              "  .colab-df-spinner {\n",
              "    border: 2px solid var(--fill-color);\n",
              "    border-color: transparent;\n",
              "    border-bottom-color: var(--fill-color);\n",
              "    animation:\n",
              "      spin 1s steps(1) infinite;\n",
              "  }\n",
              "\n",
              "  @keyframes spin {\n",
              "    0% {\n",
              "      border-color: transparent;\n",
              "      border-bottom-color: var(--fill-color);\n",
              "      border-left-color: var(--fill-color);\n",
              "    }\n",
              "    20% {\n",
              "      border-color: transparent;\n",
              "      border-left-color: var(--fill-color);\n",
              "      border-top-color: var(--fill-color);\n",
              "    }\n",
              "    30% {\n",
              "      border-color: transparent;\n",
              "      border-left-color: var(--fill-color);\n",
              "      border-top-color: var(--fill-color);\n",
              "      border-right-color: var(--fill-color);\n",
              "    }\n",
              "    40% {\n",
              "      border-color: transparent;\n",
              "      border-right-color: var(--fill-color);\n",
              "      border-top-color: var(--fill-color);\n",
              "    }\n",
              "    60% {\n",
              "      border-color: transparent;\n",
              "      border-right-color: var(--fill-color);\n",
              "    }\n",
              "    80% {\n",
              "      border-color: transparent;\n",
              "      border-right-color: var(--fill-color);\n",
              "      border-bottom-color: var(--fill-color);\n",
              "    }\n",
              "    90% {\n",
              "      border-color: transparent;\n",
              "      border-bottom-color: var(--fill-color);\n",
              "    }\n",
              "  }\n",
              "</style>\n",
              "\n",
              "  <script>\n",
              "    async function quickchart(key) {\n",
              "      const quickchartButtonEl =\n",
              "        document.querySelector('#' + key + ' button');\n",
              "      quickchartButtonEl.disabled = true;  // To prevent multiple clicks.\n",
              "      quickchartButtonEl.classList.add('colab-df-spinner');\n",
              "      try {\n",
              "        const charts = await google.colab.kernel.invokeFunction(\n",
              "            'suggestCharts', [key], {});\n",
              "      } catch (error) {\n",
              "        console.error('Error during call to suggestCharts:', error);\n",
              "      }\n",
              "      quickchartButtonEl.classList.remove('colab-df-spinner');\n",
              "      quickchartButtonEl.classList.add('colab-df-quickchart-complete');\n",
              "    }\n",
              "    (() => {\n",
              "      let quickchartButtonEl =\n",
              "        document.querySelector('#df-ad6807d8-1292-4b82-a28c-4b00cd8ed763 button');\n",
              "      quickchartButtonEl.style.display =\n",
              "        google.colab.kernel.accessAllowed ? 'block' : 'none';\n",
              "    })();\n",
              "  </script>\n",
              "</div>\n",
              "\n",
              "    </div>\n",
              "  </div>\n"
            ],
            "application/vnd.google.colaboratory.intrinsic+json": {
              "type": "dataframe",
              "variable_name": "df",
              "summary": "{\n  \"name\": \"df\",\n  \"rows\": 169,\n  \"fields\": [\n    {\n      \"column\": \"id\",\n      \"properties\": {\n        \"dtype\": \"number\",\n        \"std\": 8744,\n        \"min\": 35,\n        \"max\": 24208,\n        \"num_unique_values\": 169,\n        \"samples\": [\n          23995,\n          7776,\n          165\n        ],\n        \"semantic_type\": \"\",\n        \"description\": \"\"\n      }\n    },\n    {\n      \"column\": \"age\",\n      \"properties\": {\n        \"dtype\": \"number\",\n        \"std\": 12.356935671192087,\n        \"min\": 35.81405763,\n        \"max\": 88.7537953,\n        \"num_unique_values\": 169,\n        \"samples\": [\n          69.97770123,\n          54.91253353,\n          83.09364681\n        ],\n        \"semantic_type\": \"\",\n        \"description\": \"\"\n      }\n    },\n    {\n      \"column\": \"sex\",\n      \"properties\": {\n        \"dtype\": \"category\",\n        \"num_unique_values\": 2,\n        \"samples\": [\n          \"M\",\n          \"F\"\n        ],\n        \"semantic_type\": \"\",\n        \"description\": \"\"\n      }\n    },\n    {\n      \"column\": \"fracture\",\n      \"properties\": {\n        \"dtype\": \"category\",\n        \"num_unique_values\": 2,\n        \"samples\": [\n          \"fracture\",\n          \"no fracture\"\n        ],\n        \"semantic_type\": \"\",\n        \"description\": \"\"\n      }\n    },\n    {\n      \"column\": \"weight_kg\",\n      \"properties\": {\n        \"dtype\": \"number\",\n        \"std\": 11.53717102062719,\n        \"min\": 36.0,\n        \"max\": 96.0,\n        \"num_unique_values\": 52,\n        \"samples\": [\n          67.5,\n          57.0\n        ],\n        \"semantic_type\": \"\",\n        \"description\": \"\"\n      }\n    },\n    {\n      \"column\": \"height_cm\",\n      \"properties\": {\n        \"dtype\": \"number\",\n        \"std\": 7.9282718841519015,\n        \"min\": 142.0,\n        \"max\": 177.0,\n        \"num_unique_values\": 52,\n        \"samples\": [\n          152.0,\n          168.5\n        ],\n        \"semantic_type\": \"\",\n        \"description\": \"\"\n      }\n    },\n    {\n      \"column\": \"medication\",\n      \"properties\": {\n        \"dtype\": \"category\",\n        \"num_unique_values\": 3,\n        \"samples\": [\n          \"Anticonvulsant\",\n          \"No medication\"\n        ],\n        \"semantic_type\": \"\",\n        \"description\": \"\"\n      }\n    },\n    {\n      \"column\": \"waiting_time\",\n      \"properties\": {\n        \"dtype\": \"number\",\n        \"std\": 15,\n        \"min\": 5,\n        \"max\": 96,\n        \"num_unique_values\": 47,\n        \"samples\": [\n          19,\n          32\n        ],\n        \"semantic_type\": \"\",\n        \"description\": \"\"\n      }\n    },\n    {\n      \"column\": \"bmd\",\n      \"properties\": {\n        \"dtype\": \"number\",\n        \"std\": 0.16652888156774753,\n        \"min\": 0.40759999,\n        \"max\": 1.3624001,\n        \"num_unique_values\": 166,\n        \"samples\": [\n          1.0366,\n          0.62639999\n        ],\n        \"semantic_type\": \"\",\n        \"description\": \"\"\n      }\n    }\n  ]\n}"
            }
          },
          "metadata": {},
          "execution_count": 33
        }
      ]
    },
    {
      "cell_type": "code",
      "source": [
        "#Step 1: Data Cleaning & Preprocessing\n",
        "\n",
        "import pandas as pd\n",
        "from sklearn.preprocessing import LabelEncoder\n",
        "\n",
        "# Load the dataset\n",
        "file_path = \"/content/bmd.csv\"  # Adjust path if needed\n",
        "df = pd.read_csv(file_path)\n",
        "\n",
        "# 1. Check for missing values\n",
        "print(\"Missing Values:\\n\", df.isnull().sum())\n",
        "\n",
        "# Drop rows with missing values (if any)\n",
        "df.dropna(inplace=True)\n",
        "\n",
        "# 2. Convert categorical variables to numerical\n",
        "label_enc = LabelEncoder()\n",
        "\n",
        "df['sex'] = label_enc.fit_transform(df['sex'])  # F -> 0, M -> 1\n",
        "df['fracture'] = label_enc.fit_transform(df['fracture'])  # \"no fracture\" -> 0, \"fracture\" -> 1\n",
        "df['medication'] = label_enc.fit_transform(df['medication'])  # Encode medication categories\n",
        "\n",
        "# 3. Verify cleaned data\n",
        "print(\"\\nProcessed Data Sample:\\n\", df.head())\n",
        "\n",
        "# Save the cleaned dataset\n",
        "df.to_csv(\"cleaned_bmd.csv\", index=False)\n"
      ],
      "metadata": {
        "colab": {
          "base_uri": "https://localhost:8080/"
        },
        "id": "hvP6jgsaQgKI",
        "outputId": "7b42623a-b6f2-40fe-aaa3-18af265ab45e"
      },
      "execution_count": null,
      "outputs": [
        {
          "output_type": "stream",
          "name": "stdout",
          "text": [
            "Missing Values:\n",
            " id              0\n",
            "age             0\n",
            "sex             0\n",
            "fracture        0\n",
            "weight_kg       0\n",
            "height_cm       0\n",
            "medication      0\n",
            "waiting_time    0\n",
            "bmd             0\n",
            "dtype: int64\n",
            "\n",
            "Processed Data Sample:\n",
            "       id        age  sex  fracture  weight_kg  height_cm  medication  \\\n",
            "0    469  57.052768    0         1       64.0      155.5           0   \n",
            "1   8724  75.741225    0         1       78.0      162.0           2   \n",
            "2   6736  70.778900    1         1       73.0      170.5           2   \n",
            "3  24180  78.247175    0         1       60.0      148.0           2   \n",
            "4  17072  54.191877    1         1       55.0      161.0           2   \n",
            "\n",
            "   waiting_time     bmd  \n",
            "0            18  0.8793  \n",
            "1            56  0.7946  \n",
            "2            10  0.9067  \n",
            "3            14  0.7112  \n",
            "4            20  0.7909  \n"
          ]
        }
      ]
    },
    {
      "cell_type": "code",
      "source": [
        "#Step 2: Define Input & Target Variables\n",
        "\n",
        "from sklearn.model_selection import train_test_split\n",
        "\n",
        "# Define input features (X) and target variable (y)\n",
        "X = df[['age', 'weight_kg', 'height_cm', 'sex', 'medication', 'fracture']]  # Input features\n",
        "y = df['bmd']  # Target variable\n",
        "\n",
        "# Split data into training (80%) and testing (20%) sets\n",
        "X_train, X_test, y_train, y_test = train_test_split(X, y, test_size=0.2, random_state=42)\n",
        "\n",
        "# Print dataset shapes\n",
        "print(\"Training Data Shape:\", X_train.shape)\n",
        "print(\"Testing Data Shape:\", X_test.shape)\n"
      ],
      "metadata": {
        "colab": {
          "base_uri": "https://localhost:8080/"
        },
        "id": "sukh4eNfQvEC",
        "outputId": "4e2d2b0e-bdcb-4c65-d533-53246cf4e6e8"
      },
      "execution_count": null,
      "outputs": [
        {
          "output_type": "stream",
          "name": "stdout",
          "text": [
            "Training Data Shape: (135, 6)\n",
            "Testing Data Shape: (34, 6)\n"
          ]
        }
      ]
    },
    {
      "cell_type": "code",
      "source": [
        "#Step 3: Build a Prediction Model for BMD\n",
        "\n",
        "from sklearn.preprocessing import OneHotEncoder\n",
        "from sklearn.pipeline import Pipeline\n",
        "from sklearn.compose import ColumnTransformer\n",
        "from sklearn.ensemble import RandomForestRegressor\n",
        "from sklearn.metrics import mean_absolute_error\n",
        "\n",
        "# Identify categorical and numerical features\n",
        "categorical_features = ['sex', 'medication', 'fracture']\n",
        "numerical_features = ['age', 'weight_kg', 'height_cm']\n",
        "\n",
        "# One-Hot Encoding for categorical features\n",
        "preprocessor = ColumnTransformer(\n",
        "    transformers=[\n",
        "        ('num', 'passthrough', numerical_features),\n",
        "        ('cat', OneHotEncoder(handle_unknown='ignore'), categorical_features)\n",
        "    ]\n",
        ")\n",
        "\n",
        "# Define the prediction model (Random Forest Regressor)\n",
        "model = Pipeline(steps=[\n",
        "    ('preprocessor', preprocessor),\n",
        "    ('regressor', RandomForestRegressor(n_estimators=100, random_state=42))\n",
        "])\n",
        "\n",
        "# Train the model\n",
        "model.fit(X_train, y_train)\n",
        "\n",
        "# Predict on test set\n",
        "y_pred = model.predict(X_test)\n",
        "\n",
        "# Evaluate the model\n",
        "mae = mean_absolute_error(y_test, y_pred)\n",
        "print(f\"Mean Absolute Error: {mae:.4f}\")\n"
      ],
      "metadata": {
        "colab": {
          "base_uri": "https://localhost:8080/"
        },
        "id": "t7NWjX8qRT1C",
        "outputId": "938701d0-194b-4aa3-9475-3b29f388c339"
      },
      "execution_count": null,
      "outputs": [
        {
          "output_type": "stream",
          "name": "stdout",
          "text": [
            "Mean Absolute Error: 0.0865\n"
          ]
        }
      ]
    },
    {
      "cell_type": "code",
      "source": [
        "!pip install streamlit\n"
      ],
      "metadata": {
        "colab": {
          "base_uri": "https://localhost:8080/"
        },
        "id": "zRZM8a8QR-F4",
        "outputId": "c61b4454-f20a-4de6-dc20-a99f3d042135"
      },
      "execution_count": null,
      "outputs": [
        {
          "output_type": "stream",
          "name": "stdout",
          "text": [
            "Collecting streamlit\n",
            "  Downloading streamlit-1.42.0-py2.py3-none-any.whl.metadata (8.9 kB)\n",
            "Requirement already satisfied: altair<6,>=4.0 in /usr/local/lib/python3.11/dist-packages (from streamlit) (5.5.0)\n",
            "Requirement already satisfied: blinker<2,>=1.0.0 in /usr/local/lib/python3.11/dist-packages (from streamlit) (1.9.0)\n",
            "Requirement already satisfied: cachetools<6,>=4.0 in /usr/local/lib/python3.11/dist-packages (from streamlit) (5.5.1)\n",
            "Requirement already satisfied: click<9,>=7.0 in /usr/local/lib/python3.11/dist-packages (from streamlit) (8.1.8)\n",
            "Requirement already satisfied: numpy<3,>=1.23 in /usr/local/lib/python3.11/dist-packages (from streamlit) (1.26.4)\n",
            "Requirement already satisfied: packaging<25,>=20 in /usr/local/lib/python3.11/dist-packages (from streamlit) (24.2)\n",
            "Requirement already satisfied: pandas<3,>=1.4.0 in /usr/local/lib/python3.11/dist-packages (from streamlit) (2.2.2)\n",
            "Requirement already satisfied: pillow<12,>=7.1.0 in /usr/local/lib/python3.11/dist-packages (from streamlit) (11.1.0)\n",
            "Requirement already satisfied: protobuf<6,>=3.20 in /usr/local/lib/python3.11/dist-packages (from streamlit) (4.25.6)\n",
            "Requirement already satisfied: pyarrow>=7.0 in /usr/local/lib/python3.11/dist-packages (from streamlit) (17.0.0)\n",
            "Requirement already satisfied: requests<3,>=2.27 in /usr/local/lib/python3.11/dist-packages (from streamlit) (2.32.3)\n",
            "Requirement already satisfied: rich<14,>=10.14.0 in /usr/local/lib/python3.11/dist-packages (from streamlit) (13.9.4)\n",
            "Requirement already satisfied: tenacity<10,>=8.1.0 in /usr/local/lib/python3.11/dist-packages (from streamlit) (9.0.0)\n",
            "Requirement already satisfied: toml<2,>=0.10.1 in /usr/local/lib/python3.11/dist-packages (from streamlit) (0.10.2)\n",
            "Requirement already satisfied: typing-extensions<5,>=4.4.0 in /usr/local/lib/python3.11/dist-packages (from streamlit) (4.12.2)\n",
            "Collecting watchdog<7,>=2.1.5 (from streamlit)\n",
            "  Downloading watchdog-6.0.0-py3-none-manylinux2014_x86_64.whl.metadata (44 kB)\n",
            "\u001b[2K     \u001b[90m━━━━━━━━━━━━━━━━━━━━━━━━━━━━━━━━━━━━━━━━\u001b[0m \u001b[32m44.3/44.3 kB\u001b[0m \u001b[31m1.4 MB/s\u001b[0m eta \u001b[36m0:00:00\u001b[0m\n",
            "\u001b[?25hRequirement already satisfied: gitpython!=3.1.19,<4,>=3.0.7 in /usr/local/lib/python3.11/dist-packages (from streamlit) (3.1.44)\n",
            "Collecting pydeck<1,>=0.8.0b4 (from streamlit)\n",
            "  Downloading pydeck-0.9.1-py2.py3-none-any.whl.metadata (4.1 kB)\n",
            "Requirement already satisfied: tornado<7,>=6.0.3 in /usr/local/lib/python3.11/dist-packages (from streamlit) (6.4.2)\n",
            "Requirement already satisfied: jinja2 in /usr/local/lib/python3.11/dist-packages (from altair<6,>=4.0->streamlit) (3.1.5)\n",
            "Requirement already satisfied: jsonschema>=3.0 in /usr/local/lib/python3.11/dist-packages (from altair<6,>=4.0->streamlit) (4.23.0)\n",
            "Requirement already satisfied: narwhals>=1.14.2 in /usr/local/lib/python3.11/dist-packages (from altair<6,>=4.0->streamlit) (1.25.1)\n",
            "Requirement already satisfied: gitdb<5,>=4.0.1 in /usr/local/lib/python3.11/dist-packages (from gitpython!=3.1.19,<4,>=3.0.7->streamlit) (4.0.12)\n",
            "Requirement already satisfied: python-dateutil>=2.8.2 in /usr/local/lib/python3.11/dist-packages (from pandas<3,>=1.4.0->streamlit) (2.8.2)\n",
            "Requirement already satisfied: pytz>=2020.1 in /usr/local/lib/python3.11/dist-packages (from pandas<3,>=1.4.0->streamlit) (2025.1)\n",
            "Requirement already satisfied: tzdata>=2022.7 in /usr/local/lib/python3.11/dist-packages (from pandas<3,>=1.4.0->streamlit) (2025.1)\n",
            "Requirement already satisfied: charset-normalizer<4,>=2 in /usr/local/lib/python3.11/dist-packages (from requests<3,>=2.27->streamlit) (3.4.1)\n",
            "Requirement already satisfied: idna<4,>=2.5 in /usr/local/lib/python3.11/dist-packages (from requests<3,>=2.27->streamlit) (3.10)\n",
            "Requirement already satisfied: urllib3<3,>=1.21.1 in /usr/local/lib/python3.11/dist-packages (from requests<3,>=2.27->streamlit) (2.3.0)\n",
            "Requirement already satisfied: certifi>=2017.4.17 in /usr/local/lib/python3.11/dist-packages (from requests<3,>=2.27->streamlit) (2025.1.31)\n",
            "Requirement already satisfied: markdown-it-py>=2.2.0 in /usr/local/lib/python3.11/dist-packages (from rich<14,>=10.14.0->streamlit) (3.0.0)\n",
            "Requirement already satisfied: pygments<3.0.0,>=2.13.0 in /usr/local/lib/python3.11/dist-packages (from rich<14,>=10.14.0->streamlit) (2.18.0)\n",
            "Requirement already satisfied: smmap<6,>=3.0.1 in /usr/local/lib/python3.11/dist-packages (from gitdb<5,>=4.0.1->gitpython!=3.1.19,<4,>=3.0.7->streamlit) (5.0.2)\n",
            "Requirement already satisfied: MarkupSafe>=2.0 in /usr/local/lib/python3.11/dist-packages (from jinja2->altair<6,>=4.0->streamlit) (3.0.2)\n",
            "Requirement already satisfied: attrs>=22.2.0 in /usr/local/lib/python3.11/dist-packages (from jsonschema>=3.0->altair<6,>=4.0->streamlit) (25.1.0)\n",
            "Requirement already satisfied: jsonschema-specifications>=2023.03.6 in /usr/local/lib/python3.11/dist-packages (from jsonschema>=3.0->altair<6,>=4.0->streamlit) (2024.10.1)\n",
            "Requirement already satisfied: referencing>=0.28.4 in /usr/local/lib/python3.11/dist-packages (from jsonschema>=3.0->altair<6,>=4.0->streamlit) (0.36.2)\n",
            "Requirement already satisfied: rpds-py>=0.7.1 in /usr/local/lib/python3.11/dist-packages (from jsonschema>=3.0->altair<6,>=4.0->streamlit) (0.22.3)\n",
            "Requirement already satisfied: mdurl~=0.1 in /usr/local/lib/python3.11/dist-packages (from markdown-it-py>=2.2.0->rich<14,>=10.14.0->streamlit) (0.1.2)\n",
            "Requirement already satisfied: six>=1.5 in /usr/local/lib/python3.11/dist-packages (from python-dateutil>=2.8.2->pandas<3,>=1.4.0->streamlit) (1.17.0)\n",
            "Downloading streamlit-1.42.0-py2.py3-none-any.whl (9.6 MB)\n",
            "\u001b[2K   \u001b[90m━━━━━━━━━━━━━━━━━━━━━━━━━━━━━━━━━━━━━━━━\u001b[0m \u001b[32m9.6/9.6 MB\u001b[0m \u001b[31m48.5 MB/s\u001b[0m eta \u001b[36m0:00:00\u001b[0m\n",
            "\u001b[?25hDownloading pydeck-0.9.1-py2.py3-none-any.whl (6.9 MB)\n",
            "\u001b[2K   \u001b[90m━━━━━━━━━━━━━━━━━━━━━━━━━━━━━━━━━━━━━━━━\u001b[0m \u001b[32m6.9/6.9 MB\u001b[0m \u001b[31m62.6 MB/s\u001b[0m eta \u001b[36m0:00:00\u001b[0m\n",
            "\u001b[?25hDownloading watchdog-6.0.0-py3-none-manylinux2014_x86_64.whl (79 kB)\n",
            "\u001b[2K   \u001b[90m━━━━━━━━━━━━━━━━━━━━━━━━━━━━━━━━━━━━━━━━\u001b[0m \u001b[32m79.1/79.1 kB\u001b[0m \u001b[31m5.8 MB/s\u001b[0m eta \u001b[36m0:00:00\u001b[0m\n",
            "\u001b[?25hInstalling collected packages: watchdog, pydeck, streamlit\n",
            "Successfully installed pydeck-0.9.1 streamlit-1.42.0 watchdog-6.0.0\n"
          ]
        }
      ]
    },
    {
      "cell_type": "code",
      "source": [
        "#Train and Save the Model\n",
        "\n",
        "import pandas as pd\n",
        "import joblib\n",
        "from sklearn.model_selection import train_test_split\n",
        "from sklearn.linear_model import LinearRegression\n",
        "\n",
        "# Load the dataset\n",
        "file_path = \"bmd.csv\"  # Update the path if needed\n",
        "df = pd.read_csv(file_path)\n",
        "\n",
        "# Convert categorical data (sex, medication) into numerical form\n",
        "df['sex'] = df['sex'].map({'M': 0, 'F': 1})\n",
        "df['medication'] = df['medication'].astype('category').cat.codes  # Encode medication types\n",
        "\n",
        "# Define features (X) and target (y)\n",
        "X = df[['age', 'weight_kg', 'height_cm', 'sex', 'medication']]\n",
        "y = df['bmd']\n",
        "\n",
        "# Split the dataset for training\n",
        "X_train, X_test, y_train, y_test = train_test_split(X, y, test_size=0.2, random_state=42)\n",
        "\n",
        "# Train the model\n",
        "model = LinearRegression()\n",
        "model.fit(X_train, y_train)\n",
        "\n",
        "# Save the trained model\n",
        "joblib.dump(model, \"bmd_model.pkl\")\n",
        "\n",
        "print(\"Model trained and saved successfully as bmd_model.pkl\")\n"
      ],
      "metadata": {
        "colab": {
          "base_uri": "https://localhost:8080/"
        },
        "id": "wMpJLlWNSS08",
        "outputId": "a1c68a7a-4dbd-47ab-ea61-f6b915b4b76a"
      },
      "execution_count": null,
      "outputs": [
        {
          "output_type": "stream",
          "name": "stdout",
          "text": [
            "Model trained and saved successfully as bmd_model.pkl\n"
          ]
        }
      ]
    },
    {
      "cell_type": "code",
      "source": [
        "#Check If Model is Saved\n",
        "\n",
        "import os\n",
        "print(os.listdir())  # List all files in the current directory\n"
      ],
      "metadata": {
        "colab": {
          "base_uri": "https://localhost:8080/"
        },
        "id": "aF4cUZfKSYai",
        "outputId": "46b43d99-ee75-4a26-966d-451405944ed7"
      },
      "execution_count": null,
      "outputs": [
        {
          "output_type": "stream",
          "name": "stdout",
          "text": [
            "['.config', 'test.csv', 'bmd.csv', 'cleaned_bmd.csv', 'bmd_model.pkl', '.ipynb_checkpoints', 'SR_Legacy.accdb', 'sample_data']\n"
          ]
        }
      ]
    },
    {
      "cell_type": "code",
      "source": [
        "#UI Integration\n",
        "\n",
        "import streamlit as st\n",
        "import numpy as np\n",
        "import pandas as pd\n",
        "import joblib\n",
        "\n",
        "# Load the trained BMD prediction model\n",
        "model = joblib.load(\"bmd_model.pkl\")  # Ensure you've saved your trained model\n",
        "\n",
        "# Function to predict BMD\n",
        "def predict_bmd(age, weight, height, sex, medication):\n",
        "    input_data = pd.DataFrame([[age, weight, height, sex, medication]],\n",
        "                              columns=['age', 'weight_kg', 'height_cm', 'sex', 'medication'])\n",
        "    bmd_pred = model.predict(input_data)[0]\n",
        "\n",
        "    # Categorize BMD\n",
        "    if bmd_pred >= -1.0:\n",
        "        category = \"Normal\"\n",
        "    elif -2.5 < bmd_pred < -1.0:\n",
        "        category = \"Osteopenia\"\n",
        "    else:\n",
        "        category = \"Osteoporosis\"\n",
        "\n",
        "    return bmd_pred, category\n",
        "\n",
        "# Streamlit UI\n",
        "st.title(\"Bone Mineral Density (BMD) Estimator\")\n",
        "\n",
        "# User Inputs\n",
        "age = st.number_input(\"Enter Age\", min_value=18, max_value=100, value=50)\n",
        "weight = st.number_input(\"Enter Weight (kg)\", min_value=30, max_value=150, value=70)\n",
        "height = st.number_input(\"Enter Height (cm)\", min_value=100, max_value=220, value=170)\n",
        "sex = st.selectbox(\"Select Sex\", [\"M\", \"F\"])\n",
        "medication = st.selectbox(\"Medication Type\", [\"No medication\", \"Anticonvulsant\", \"Glucocorticoids\"])\n",
        "\n",
        "# Prediction Button\n",
        "if st.button(\"Predict BMD\"):\n",
        "    bmd_value, bmd_category = predict_bmd(age, weight, height, sex, medication)\n",
        "    st.write(f\"### Predicted BMD: {bmd_value:.4f}\")\n",
        "    st.write(f\"### BMD Category: **{bmd_category}**\")\n",
        "\n",
        "    # Display BMD category with color indicator\n",
        "    if bmd_category == \"Normal\":\n",
        "        st.success(\"Your BMD is in the Normal range! 🦴✅\")\n",
        "    elif bmd_category == \"Osteopenia\":\n",
        "        st.warning(\"Your BMD indicates Osteopenia. Consider improving bone health! ⚠️\")\n",
        "    else:\n",
        "        st.error(\"Your BMD indicates Osteoporosis. Please consult a doctor. 🚨\")\n",
        "\n",
        "# Run the app with: `streamlit run app.py`\n"
      ],
      "metadata": {
        "colab": {
          "base_uri": "https://localhost:8080/"
        },
        "id": "1GLwiLwcTkP1",
        "outputId": "8b4d0a2f-8350-475b-9d5b-d629069be485"
      },
      "execution_count": null,
      "outputs": [
        {
          "output_type": "stream",
          "name": "stderr",
          "text": [
            "2025-02-14 11:55:15.831 Thread 'MainThread': missing ScriptRunContext! This warning can be ignored when running in bare mode.\n",
            "2025-02-14 11:55:15.833 Thread 'MainThread': missing ScriptRunContext! This warning can be ignored when running in bare mode.\n",
            "2025-02-14 11:55:15.835 Thread 'MainThread': missing ScriptRunContext! This warning can be ignored when running in bare mode.\n",
            "2025-02-14 11:55:15.836 Thread 'MainThread': missing ScriptRunContext! This warning can be ignored when running in bare mode.\n",
            "2025-02-14 11:55:15.838 Thread 'MainThread': missing ScriptRunContext! This warning can be ignored when running in bare mode.\n",
            "2025-02-14 11:55:15.839 Thread 'MainThread': missing ScriptRunContext! This warning can be ignored when running in bare mode.\n",
            "2025-02-14 11:55:15.844 Thread 'MainThread': missing ScriptRunContext! This warning can be ignored when running in bare mode.\n",
            "2025-02-14 11:55:15.845 Thread 'MainThread': missing ScriptRunContext! This warning can be ignored when running in bare mode.\n",
            "2025-02-14 11:55:15.847 Thread 'MainThread': missing ScriptRunContext! This warning can be ignored when running in bare mode.\n",
            "2025-02-14 11:55:15.848 Thread 'MainThread': missing ScriptRunContext! This warning can be ignored when running in bare mode.\n",
            "2025-02-14 11:55:15.850 Thread 'MainThread': missing ScriptRunContext! This warning can be ignored when running in bare mode.\n",
            "2025-02-14 11:55:15.851 Thread 'MainThread': missing ScriptRunContext! This warning can be ignored when running in bare mode.\n",
            "2025-02-14 11:55:15.854 Thread 'MainThread': missing ScriptRunContext! This warning can be ignored when running in bare mode.\n",
            "2025-02-14 11:55:15.855 Thread 'MainThread': missing ScriptRunContext! This warning can be ignored when running in bare mode.\n",
            "2025-02-14 11:55:15.857 Thread 'MainThread': missing ScriptRunContext! This warning can be ignored when running in bare mode.\n",
            "2025-02-14 11:55:15.859 Thread 'MainThread': missing ScriptRunContext! This warning can be ignored when running in bare mode.\n",
            "2025-02-14 11:55:15.861 Thread 'MainThread': missing ScriptRunContext! This warning can be ignored when running in bare mode.\n",
            "2025-02-14 11:55:15.867 Thread 'MainThread': missing ScriptRunContext! This warning can be ignored when running in bare mode.\n",
            "2025-02-14 11:55:15.872 Thread 'MainThread': missing ScriptRunContext! This warning can be ignored when running in bare mode.\n",
            "2025-02-14 11:55:15.875 Thread 'MainThread': missing ScriptRunContext! This warning can be ignored when running in bare mode.\n",
            "2025-02-14 11:55:15.876 Thread 'MainThread': missing ScriptRunContext! This warning can be ignored when running in bare mode.\n",
            "2025-02-14 11:55:15.877 Thread 'MainThread': missing ScriptRunContext! This warning can be ignored when running in bare mode.\n",
            "2025-02-14 11:55:15.881 Thread 'MainThread': missing ScriptRunContext! This warning can be ignored when running in bare mode.\n",
            "2025-02-14 11:55:15.883 Thread 'MainThread': missing ScriptRunContext! This warning can be ignored when running in bare mode.\n",
            "2025-02-14 11:55:15.884 Thread 'MainThread': missing ScriptRunContext! This warning can be ignored when running in bare mode.\n",
            "2025-02-14 11:55:15.885 Thread 'MainThread': missing ScriptRunContext! This warning can be ignored when running in bare mode.\n",
            "2025-02-14 11:55:15.887 Thread 'MainThread': missing ScriptRunContext! This warning can be ignored when running in bare mode.\n",
            "2025-02-14 11:55:15.888 Thread 'MainThread': missing ScriptRunContext! This warning can be ignored when running in bare mode.\n",
            "2025-02-14 11:55:15.889 Thread 'MainThread': missing ScriptRunContext! This warning can be ignored when running in bare mode.\n",
            "2025-02-14 11:55:15.890 Thread 'MainThread': missing ScriptRunContext! This warning can be ignored when running in bare mode.\n",
            "2025-02-14 11:55:15.891 Thread 'MainThread': missing ScriptRunContext! This warning can be ignored when running in bare mode.\n",
            "2025-02-14 11:55:15.892 Thread 'MainThread': missing ScriptRunContext! This warning can be ignored when running in bare mode.\n",
            "2025-02-14 11:55:15.894 Thread 'MainThread': missing ScriptRunContext! This warning can be ignored when running in bare mode.\n",
            "2025-02-14 11:55:15.895 Thread 'MainThread': missing ScriptRunContext! This warning can be ignored when running in bare mode.\n",
            "2025-02-14 11:55:15.896 Thread 'MainThread': missing ScriptRunContext! This warning can be ignored when running in bare mode.\n",
            "2025-02-14 11:55:15.898 Thread 'MainThread': missing ScriptRunContext! This warning can be ignored when running in bare mode.\n",
            "2025-02-14 11:55:15.899 Thread 'MainThread': missing ScriptRunContext! This warning can be ignored when running in bare mode.\n"
          ]
        }
      ]
    },
    {
      "cell_type": "code",
      "source": [
        "#Create the Prediction Function\n",
        "\n",
        "import joblib\n",
        "import numpy as np\n",
        "\n",
        "# Load the trained model\n",
        "model = joblib.load(\"bmd_model.pkl\")\n",
        "\n",
        "# Function to predict BMD based on user input\n",
        "def predict_bmd(age, weight_kg, height_cm, sex, medication):\n",
        "    # Convert categorical inputs\n",
        "    sex = 0 if sex.lower() == 'm' else 1\n",
        "    medication_mapping = {\"No medication\": 0, \"Anticonvulsant\": 1, \"Glucocorticoids\": 2}\n",
        "    medication = medication_mapping.get(medication, 0)  # Default to \"No medication\"\n",
        "\n",
        "    # Create input array\n",
        "    user_data = np.array([[age, weight_kg, height_cm, sex, medication]])\n",
        "\n",
        "    # Predict BMD\n",
        "    predicted_bmd = model.predict(user_data)[0]\n",
        "\n",
        "    return predicted_bmd\n",
        "\n",
        "# Example test\n",
        "print(\"Predicted BMD:\", predict_bmd(60, 70, 160, 'M', \"No medication\"))\n"
      ],
      "metadata": {
        "colab": {
          "base_uri": "https://localhost:8080/"
        },
        "id": "DN4AucTPTypw",
        "outputId": "cb257cf9-9b2d-45ff-f4ba-f0a6c6a2e080"
      },
      "execution_count": null,
      "outputs": [
        {
          "output_type": "stream",
          "name": "stdout",
          "text": [
            "Predicted BMD: 0.8385662123766288\n"
          ]
        },
        {
          "output_type": "stream",
          "name": "stderr",
          "text": [
            "/usr/local/lib/python3.11/dist-packages/sklearn/utils/validation.py:2739: UserWarning: X does not have valid feature names, but LinearRegression was fitted with feature names\n",
            "  warnings.warn(\n"
          ]
        }
      ]
    },
    {
      "cell_type": "code",
      "source": [
        "#Classify BMD into Categories\n",
        "\n",
        "def classify_bmd(bmd_value):\n",
        "    if bmd_value >= -1.0:\n",
        "        return \"Normal\"\n",
        "    elif -2.5 < bmd_value < -1.0:\n",
        "        return \"Osteopenia (Low Bone Mass)\"\n",
        "    else:\n",
        "        return \"Osteoporosis (High Risk)\"\n",
        "\n",
        "# Example test\n",
        "bmd_test = predict_bmd(60, 70, 160, 'M', \"No medication\")\n",
        "category = classify_bmd(bmd_test)\n",
        "print(f\"BMD Value: {bmd_test}, Category: {category}\")\n"
      ],
      "metadata": {
        "colab": {
          "base_uri": "https://localhost:8080/"
        },
        "id": "7phmSuO6UTzK",
        "outputId": "a315b9e2-4e25-47c6-a2d2-43e3d44b0764"
      },
      "execution_count": null,
      "outputs": [
        {
          "output_type": "stream",
          "name": "stdout",
          "text": [
            "BMD Value: 0.8385662123766288, Category: Normal\n"
          ]
        },
        {
          "output_type": "stream",
          "name": "stderr",
          "text": [
            "/usr/local/lib/python3.11/dist-packages/sklearn/utils/validation.py:2739: UserWarning: X does not have valid feature names, but LinearRegression was fitted with feature names\n",
            "  warnings.warn(\n"
          ]
        }
      ]
    },
    {
      "cell_type": "code",
      "source": [
        "#Provide Nutrient Recommendations\n",
        "\n",
        "def recommend_nutrients(bmd_category):\n",
        "    recommendations = {\n",
        "        \"Normal\": [\"Maintain a balanced diet rich in Calcium, Vitamin D, and Magnesium.\"],\n",
        "        \"Osteopenia (Low Bone Mass)\": [\n",
        "            \"Increase Calcium intake (1200mg/day).\",\n",
        "            \"Get 800-1000 IU of Vitamin D per day.\",\n",
        "            \"Eat phosphorus-rich foods like dairy and fish.\"\n",
        "        ],\n",
        "        \"Osteoporosis (High Risk)\": [\n",
        "            \"Ensure 1500mg of Calcium per day (consider supplements).\",\n",
        "            \"Vitamin D (1000 IU+) and Vitamin K for bone strength.\",\n",
        "            \"Magnesium & Phosphorus for mineral balance.\",\n",
        "            \"Consult a doctor for possible medication.\"\n",
        "        ]\n",
        "    }\n",
        "\n",
        "    return recommendations.get(bmd_category, [\"No specific recommendations.\"])\n",
        "\n",
        "# Example test\n",
        "bmd_test = predict_bmd(60, 70, 160, 'M', \"No medication\")\n",
        "category = classify_bmd(bmd_test)\n",
        "nutrient_recs = recommend_nutrients(category)\n",
        "\n",
        "print(f\"BMD Value: {bmd_test}, Category: {category}\")\n",
        "print(\"Recommended Nutrients:\", nutrient_recs)\n"
      ],
      "metadata": {
        "colab": {
          "base_uri": "https://localhost:8080/"
        },
        "id": "BYnpocwRUc81",
        "outputId": "97b3631a-50f6-42ce-bb34-1bb56dbfb446"
      },
      "execution_count": null,
      "outputs": [
        {
          "output_type": "stream",
          "name": "stdout",
          "text": [
            "BMD Value: 0.8385662123766288, Category: Normal\n",
            "Recommended Nutrients: ['Maintain a balanced diet rich in Calcium, Vitamin D, and Magnesium.']\n"
          ]
        },
        {
          "output_type": "stream",
          "name": "stderr",
          "text": [
            "/usr/local/lib/python3.11/dist-packages/sklearn/utils/validation.py:2739: UserWarning: X does not have valid feature names, but LinearRegression was fitted with feature names\n",
            "  warnings.warn(\n"
          ]
        }
      ]
    },
    {
      "cell_type": "code",
      "source": [
        "!streamlit run bmd_app.py"
      ],
      "metadata": {
        "colab": {
          "base_uri": "https://localhost:8080/"
        },
        "id": "eQuuTtO8UqJM",
        "outputId": "b4a56570-2b78-4c21-ba2a-9d6b7dd61e6b"
      },
      "execution_count": null,
      "outputs": [
        {
          "output_type": "stream",
          "name": "stdout",
          "text": [
            "Usage: streamlit run [OPTIONS] TARGET [ARGS]...\n",
            "Try 'streamlit run --help' for help.\n",
            "\n",
            "Error: Invalid value: File does not exist: bmd_app.py\n"
          ]
        }
      ]
    },
    {
      "cell_type": "code",
      "source": [],
      "metadata": {
        "id": "LehNgBy6VErr"
      },
      "execution_count": null,
      "outputs": []
    }
  ]
}